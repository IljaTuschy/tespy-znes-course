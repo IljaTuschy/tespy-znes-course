{
 "cells": [
  {
   "cell_type": "markdown",
   "id": "153f92c9",
   "metadata": {},
   "source": [
    "# Design and Off-design Performance\n",
    "\n",
    "Operation of components is restricted once a component has been built. While designing components some of their parameters are not yet fixed. They are results of the design calculation and chosen to match the performance data defined in this phase of the components life cycle. After construction some of the components parameters may still be variable on the one hand. This holds for many thermodynamic properties. On the other hand other parameters are physically fixed. This holds for diameters of pipes, areas of heat exchangers and so on. As a consequence the component's performance is determined by its physical construction.\n",
    "\n",
    "## Components and their design parameters\n",
    "\n",
    "\n",
    "### Piping\n",
    "\n",
    "A pipe or any other type of piping can be designed in order to meet certain performance requirements. During design a construction is chosen in order to match\n",
    "\n",
    "- Pressure loss and \n",
    "- Heat loss at a desired\n",
    "- Mass flow (and piping length) of a\n",
    "- Fluid\n",
    "\n",
    "A pipe (or even a more complex piece of piping) in reality has physical parameters that can no longer be changed even if others may vary. Unchangable parameters of a built piping component are e.g.\n",
    "\n",
    "- Diameters (in combination with piping length) and\n",
    "- Thermal isolation\n",
    "\n",
    "These physical parameters determine the characteristics of the piping when used at other temperatures, for other fluids or with decreasing or increasing mass flows.\n",
    "\n",
    "### Heat exchanger\n",
    "\n",
    "When designing a heat exchanger some parameters can be chosen within certain limits. Examples are:\n",
    "\n",
    "- Temperatures (or temperature differences)\n",
    "- Mass flow(s)\n",
    "- Fluids involved\n",
    "- Pressures (or pressure losses)\n",
    "\n",
    "Once a heat exchanger is designed the following attributes are physically fixed:\n",
    "\n",
    "- Heat exchange area\n",
    "- piping diameters\n",
    "- ther resulting heat transfer coefficient under defined conditions \n",
    "\n",
    "Additionally the material of a component is then chosen. In terms of the thermal simulation this is a parameters that implicitly affects the coefficient of heat transfer. The heat exchanger could still transfer a higher or lower heat flow depending on the mass flows that are admitted to the component and their thermodynamic variables of state. But the window of performance is now restricted in comparison to the calculations that where possible while designing the component.\n",
    "\n",
    "### Turbomachinery\n",
    "\n",
    "Analogously data that can be defined during the design of a compressor is\n",
    "\n",
    "- Mass flow\n",
    "- Pressure ratio\n",
    "- (Isentropic) efficiency at defined\n",
    "- Themodynamic conditions (typically defined for the inlet)\n",
    "\n",
    "Physical properties of compressors are then\n",
    "\n",
    "- Inlet and outlet area (e.g. defined by diameters etc.)\n",
    "- Length, angle etc. of compressor blading\n",
    "- Nominal rotational speed\n",
    "\n",
    "The same holds for turbines.\n",
    "\n",
    "## Handling Off-Design Performance of Components with TESPy\n",
    "\n",
    "TESPy offers options to handle this effect. We will start exploring the respective features with a simple example.\n",
    "\n",
    "### Simple pipe\n",
    "\n",
    "In a first step we will consider a pipe for compressed air. We will try to find out, how pressure losses evolve with different mass flows. For this purpose we start simulating a pipe for defined conditions. We use a mode to calculate the pipe based on construction data and basic correlations known from fluid dynamics. We assume\n",
    "\n",
    "- Pipe length: 200 m\n",
    "- Pressure drop: 0.02 bar\n",
    "- Inlet conditions: 5 bar, 25 °C\n",
    "- perfect thermal insolation\n",
    "\n",
    "and could then determine the respective pipe diameter using this script"
   ]
  },
  {
   "cell_type": "code",
   "execution_count": 4,
   "id": "8e6637fa",
   "metadata": {},
   "outputs": [
    {
     "name": "stdout",
     "output_type": "stream",
     "text": [
      "\n",
      "##### RESULTS (Pipe) #####\n",
      "+------+-----------+----------+----------+----------+----------+----------+----------+---------+------+--------+\n",
      "|      |         Q |       pr |       dp |     zeta |        D |        L |       ks |   ks_HW |   kA |   Tamb |\n",
      "|------+-----------+----------+----------+----------+----------+----------+----------+---------+------+--------|\n",
      "| pipe | \u001b[94m-5.82e-11\u001b[0m | 9.96e-01 | \u001b[94m2.00e+03\u001b[0m | 1.44e+04 | \u001b[32m1.87e-01\u001b[0m | \u001b[94m2.00e+02\u001b[0m | \u001b[94m5.00e-05\u001b[0m |     nan |  nan |    nan |\n",
      "+------+-----------+----------+----------+----------+----------+----------+----------+---------+------+--------+\n",
      "##### RESULTS (Connection) #####\n",
      "+-----+-----------+-----------+-----------+-----------+------------+----------------------+\n",
      "|     |         m |         p |         h |         T |          x | phase                |\n",
      "|-----+-----------+-----------+-----------+-----------+------------+----------------------|\n",
      "| c01 | \u001b[94m1.000e+00\u001b[0m | \u001b[94m5.000e+05\u001b[0m | 4.235e+05 | \u001b[94m2.982e+02\u001b[0m | -1.000e+00 | state not recognised |\n",
      "| c02 | 1.000e+00 | 4.980e+05 | 4.235e+05 | 2.981e+02 | -1.000e+00 | state not recognised |\n",
      "+-----+-----------+-----------+-----------+-----------+------------+----------------------+\n",
      "The pipe diameter is 0.19 m\n"
     ]
    }
   ],
   "source": [
    "from tespy.networks import Network\n",
    "from tespy.connections import Connection\n",
    "from tespy.components import(\n",
    "    Source,\n",
    "    Pipe,\n",
    "    Sink\n",
    ")\n",
    "\n",
    "import numpy as np\n",
    "import matplotlib.pyplot as plt\n",
    "\n",
    "# define piping network\n",
    "pn = Network()\n",
    "\n",
    "# create components without parametrization\n",
    "air_in = Source('air inlet')\n",
    "pip = Pipe('pipe')\n",
    "air_out = Sink('air outlet')\n",
    "\n",
    "# set up topology\n",
    "c01 = Connection(air_in, 'out1', pip, 'in1', 'c01')\n",
    "c02 = Connection(pip, 'out1', air_out, 'in1', 'c02')\n",
    "\n",
    "pn.add_conns(c01, c02)\n",
    "\n",
    "# parametrize\n",
    "fluid = {'Air': 1} \n",
    "p_in = 5e5 #inlet pressure in Pa\n",
    "T_in = 298.15 #inlet temperature in K\n",
    "m = 1 #air mass flow in kg/s\n",
    "\n",
    "c01.set_attr(fluid=fluid, p=p_in, T=T_in, m=m)\n",
    "pip.set_attr(Q=0) # assume adiabatic piping\n",
    "\n",
    "pip.set_attr(dp=0.02e5, ks=0.00005, L=200, D='var')\n",
    "\n",
    "pn.set_attr(iterinfo=False)\n",
    "pn.solve(mode='design')\n",
    "pn.print_results()\n",
    "\n",
    "d=pip.get_attr('D').val\n",
    "print(f'The pipe diameter is {d:.2} m')\n"
   ]
  },
  {
   "cell_type": "markdown",
   "id": "c80f48ce",
   "metadata": {},
   "source": [
    "We could then stick to that diameter and calculate the resulting pressure loss for different mass flows and plot the results."
   ]
  },
  {
   "cell_type": "code",
   "execution_count": 8,
   "id": "62604783",
   "metadata": {},
   "outputs": [
    {
     "data": {
      "image/png": "[encoded data removed]",
      "text/plain": [
       "<Figure size 800x600 with 1 Axes>"
      ]
     },
     "metadata": {},
     "output_type": "display_data"
    }
   ],
   "source": [
    "pip.set_attr(dp=None)\n",
    "pip.set_attr(D=d)\n",
    "\n",
    "m_range = np.linspace(m*0.5, m*2, 20)\n",
    "dp_range = np.empty([20])\n",
    "\n",
    "i=0\n",
    "for m_new in m_range:\n",
    "    c01.set_attr(m=m_new)\n",
    "    pn.solve(mode='design')\n",
    "    dp_range[i]=pip.get_attr('dp').val\n",
    "    i +=1\n",
    "\n",
    "fig = plt.figure(figsize=(8,6))\n",
    "ax = fig.add_subplot(111)\n",
    "ax.plot(m_range, dp_range)\n",
    "ax.set_title('Pipe Pressure Drop for different Mass Flows')\n",
    "ax.set_xlabel('Mass Flow in kg/s')\n",
    "ax.set_ylabel('Pressure Drop in Pa')\n",
    "plt.show()"
   ]
  },
  {
   "cell_type": "markdown",
   "id": "61552b84",
   "metadata": {},
   "source": [
    "### Turbine in Off-Design Operation\n",
    "\n",
    "The next example would be to design a turbine and then operate it under changed conditions. We consider a steam turbine that is designed for this setup.\n",
    "\n",
    "- Inlet conditions: 80 bar, 550 °C\n",
    "- condenser pressure: 0.1 bar\n",
    "\n",
    "There is more data needed to specify the design calculations. Make up your mind which information is missing.\n",
    "\n",
    "After that you might write a script like this for designing the turbine."
   ]
  },
  {
   "cell_type": "code",
   "execution_count": null,
   "id": "2b026163",
   "metadata": {},
   "outputs": [],
   "source": []
  },
  {
   "cell_type": "markdown",
   "id": "8ca7d48a",
   "metadata": {},
   "source": [
    "After designing the turbine we could now use the very same turbine with a different mass flow. Let's find out how\n",
    "\n",
    "- turbine inlet pressure\n",
    "- turbine power output and\n",
    "- turbine efficiency \n",
    "\n",
    "change.\n"
   ]
  },
  {
   "cell_type": "code",
   "execution_count": null,
   "id": "0f80f979",
   "metadata": {},
   "outputs": [],
   "source": []
  },
  {
   "cell_type": "markdown",
   "id": "bcc6e8da",
   "metadata": {},
   "source": [
    "### Compressor\n",
    "\n",
    "Consider a gas turbine compressor\n",
    "Build a model of a gas turbine compressor with an inlet pressure of 1 bar, an inlet temperature of 25 °C and a pressure ratio of 10\n",
    "What specifications are needed to design the compressor?\n",
    "Run a sensitivity study in offdesign mode by applying a compressor map\n",
    "Try to identify, how compressor maps can be read? What attributes does the compressor map control?\n",
    "How do pressure ration and efficiency change when changing volumetric flow?\n",
    "How does the compressor inlet temperature affect the compressor performance?\n",
    "\n"
   ]
  },
  {
   "cell_type": "code",
   "execution_count": null,
   "id": "bad122e5",
   "metadata": {},
   "outputs": [],
   "source": []
  },
  {
   "cell_type": "markdown",
   "id": "23dcc1ff",
   "metadata": {},
   "source": [
    "### Heat Exchanger\n",
    "\n",
    "Consider a condensing heat exchanger\n",
    "Build a model of a condenser\n",
    "What specifications are needed to design the condenser?\n",
    "Run a sensitivity study in offdesign mode changing the condensing mass flow\n",
    "How does the condensation pressure change?"
   ]
  },
  {
   "cell_type": "code",
   "execution_count": null,
   "id": "9ac86052",
   "metadata": {},
   "outputs": [],
   "source": []
  },
  {
   "cell_type": "markdown",
   "id": "aea5f974",
   "metadata": {},
   "source": [
    "## Next steps\n",
    "\n",
    "Using this approach it is possible to calculate complete cycles in off-design. Try to set up respective models for a simple steam turbine cycle and for a gas turbine cycle to train you expertise and check if you got the point in off design modelling with TESPy.\n",
    "\n",
    "For the rankine cycle model you could study the effects of changing the overall power generation on\n",
    "- Required steam mass flow\n",
    "- Condensation pressure\n",
    "- Turbine inlet pressure\n",
    "- Thermal efficiency\n",
    "\n",
    "You could use a gas turbine model to study the effects of a change in overall power generation on\n",
    "- Required air and fuel mass flow\n",
    "- Cycle efficiency\n",
    "- Turbine inlet temperature\n",
    "- Turbine outlet temperature\n",
    "\n",
    "\n",
    "\n"
   ]
  }
 ],
 "metadata": {
  "kernelspec": {
   "display_name": "tespy-env",
   "language": "python",
   "name": "python3"
  },
  "language_info": {
   "codemirror_mode": {
    "name": "ipython",
    "version": 3
   },
   "file_extension": ".py",
   "mimetype": "text/x-python",
   "name": "python",
   "nbconvert_exporter": "python",
   "pygments_lexer": "ipython3",
   "version": "3.9.21"
  }
 },
 "nbformat": 4,
 "nbformat_minor": 5
}
