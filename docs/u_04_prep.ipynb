{
 "cells": [
  {
   "cell_type": "markdown",
   "metadata": {},
   "source": [
    "# A quick start into TESPy\n",
    "\n",
    "## General information\n",
    "\n",
    "[TESPy](https://tespy.readthedocs.io) is an open-source framework for the simulation of component based thermodynamic\n",
    "conversion processes. With the software you can use predefined components such as a pump, compressor, heat exchanger,\n",
    "turbine or valve (and many more) to build thermodynamic systems. The system is set up by connecting the components in a\n",
    "generic way and then specifying respective process and component parameters.\n",
    "\n",
    "The software then performs a steady state simulation of your system by creating and solving a system of equations in the \n",
    "so-called *equation oriented (EO)* approach, i.e. components are not calculated stepwise, but simultaniously in a generic\n",
    "way. The system represents the individual topology and component and process specifications provided by you. TESPy \n",
    "accomplishes this by solving for\n",
    "\n",
    "- mass flow,\n",
    "- pressure and\n",
    "- enthalpy\n",
    "- (as well as fluid composition)\n",
    "\n",
    "of every connection between two components. After solving a model, missing component and process\n",
    "parameters - for example: efficiencies, temperatures, pressure losses - are determined based on this information. The\n",
    "EO approach lets the modeler choose, which parameters are inputs and which parameters are results: For instance, a\n",
    "compressor efficiency can be an input and the system variables are solved to meet that constraint, or it can be a result\n",
    "of other inputs.\n",
    "\n",
    "## Mini example\n",
    "\n",
    "TESPy consists of three main building blocks:\n",
    "\n",
    "- class `Network` as container of the simulation\n",
    "- class `Component` (children of them: `Compressor`, `Valve`, ...), in which\n",
    "  thermodynamic conversion processes take place\n",
    "- class `Connection`, which define the topology of the `Network`\n",
    "  by connecting the individual components\n",
    "\n",
    "In this example, we will create two simple networks to show the principle of TESPy. For further tutorials and examples\n",
    "we recommend looking into the online documentation.\n",
    "\n",
    "### Modeling a Compressor\n",
    "\n",
    "First, we are modeling a compressor, which compresses fully saturated steam of a refrigerant to a higher pressure level. The\n",
    "figure below shows the abstract representation of the component. The respective table summarizes the\n",
    "process parameters we are going to apply in our example.\n",
    "\n",
    "![Compressor Heat Balance Diagramm](img/Compressor.svg)\n",
    "\n",
    "\n",
    "\n",
    "| parameter description   | model location | model parameter | value | unit |\n",
    "|:----------------------- |:-------------- |:--------------- | -----:|:---- |\n",
    "| saturated gas state     | in             | `x`             |   100 | %    |\n",
    "| temperature             |                | `T`             |    10 | °C   |\n",
    "| mass flow               |                | `m`             |   0.1 | kg/s |\n",
    "| efficiency              | compressor     | `eta_s`         |    80 | %    |\n",
    "| pressure ratio          |                | `pr`            |     3 | -    |"
   ]
  },
  {
   "cell_type": "markdown",
   "metadata": {},
   "source": [
    "In a fist step the topology has to be set up. For this a network has to be defined. In our python code, we import the `Network` class from `tespy.networks`. After this we define our network in just calling this function. In general the initialization of `Network()` needs no arguments but it has optional arguments. In our example we use this option to set the units of pressure und temperature to $\\mathrm{bar}$ and $\\mathrm{°C}$ respectively.\n",
    "\n",
    "Additionally the components of the network have to be defined. These include the compressor of course. But as every connnecion is connecting two components, we alsop need a source of the working fluid in our simple example and a sink. Consequently we import the classes `Source`, `Compressor`and `Sink` from `tespy.components`. Initializing the components it is mandatory to include a label for the component. This is done just after initializing the network.\n",
    "\n",
    "Last but not least, the components have to be connected. This is done by using the `Connection`class that is imported from `tespy.connections`. When initializing a connection it has to be defined where it starts and where it ends. In our example we connect the first connection to the outlet of the source and the inlet of the compressor. Connections additionally need some kind of identifier which again is the label of the component.\n",
    "\n",
    "The final step in defining the topology is adding the connections to the network using the `add_conns` method of the network instance."
   ]
  },
  {
   "cell_type": "code",
   "execution_count": 18,
   "metadata": {},
   "outputs": [],
   "source": [
    "from tespy.networks import Network\n",
    "from tespy.components import Source, Sink, Compressor\n",
    "from tespy.connections import Connection\n",
    "\n",
    "\n",
    "nwk = Network(p_unit=\"bar\", T_unit=\"C\")\n",
    "\n",
    "so = Source(\"source\")\n",
    "cp = Compressor(\"compressor\")\n",
    "si = Sink(\"sink\")\n",
    "\n",
    "c1 = Connection(so, \"out1\", cp, \"in1\", label=\"1\")\n",
    "c2 = Connection(cp, \"out1\", si, \"in1\", label=\"2\")\n",
    "\n",
    "nwk.add_conns(c1, c2)"
   ]
  },
  {
   "cell_type": "markdown",
   "metadata": {},
   "source": [
    "To make a simulation it is now necessary to specify relevant component and process parameters. We start with the values\n",
    "as provided in the table above. In addition to this we define the working fluid. In our case it is the refrigerant R290.\n",
    "TESPy understands a fluid as a dictionary of components and mass fractions. In our example, the only component is R290\n",
    "and the mass fraction of this component is 100 %, i.e. 1.\n",
    "\n",
    "We can see that both component and process parameters can be set using the `set_attr` method of components and connections.\n",
    "The arguments of this method can be different depending on the context, e.g. which component is adressed.\n",
    "\n",
    "After that the network can be simulated using the network's `solve` method. This method needs one argument that tells TESPy\n",
    "if the calculation is a design calculation or an off-design calculation. This information is passed as one can see below."
   ]
  },
  {
   "cell_type": "code",
   "execution_count": 19,
   "metadata": {},
   "outputs": [
    {
     "name": "stdout",
     "output_type": "stream",
     "text": [
      "\n",
      " iter  | residual   | progress   | massflow   | pressure   | enthalpy   | fluid      | component  \n",
      "-------+------------+------------+------------+------------+------------+------------+------------\n",
      " 1     | 1.86e+06   | 0 %        | 0.00e+00   | 1.81e+06   | 3.88e+05   | 0.00e+00   | 0.00e+00   \n",
      " 2     | 5.91e+05   | 2 %        | 0.00e+00   | 2.33e-10   | 7.39e+05   | 0.00e+00   | 0.00e+00   \n",
      " 3     | 2.33e-10   | 100 %      | 0.00e+00   | 2.33e-10   | 6.94e-12   | 0.00e+00   | 0.00e+00   \n",
      " 4     | 2.33e-10   | 100 %      | 0.00e+00   | 2.33e-10   | 6.94e-12   | 0.00e+00   | 0.00e+00   \n",
      "Total iterations: 4, Calculation time: 0.00 s, Iterations per second: inf\n"
     ]
    }
   ],
   "source": [
    "c1.set_attr(fluid={\"R290\": 1}, T=10, x=1, m=0.1)\n",
    "\n",
    "cp.set_attr(eta_s=0.8, pr=3)\n",
    "\n",
    "nwk.solve(\"design\")"
   ]
  },
  {
   "cell_type": "markdown",
   "metadata": {},
   "source": [
    "We can have a look at the results. An overview is provided by the `print_results` method of the `Network`."
   ]
  },
  {
   "cell_type": "code",
   "execution_count": 20,
   "metadata": {},
   "outputs": [
    {
     "name": "stdout",
     "output_type": "stream",
     "text": [
      "\n",
      "##### RESULTS (Compressor) #####\n",
      "+------------+----------+----------+----------+--------+\n",
      "|            |        P |    eta_s |       pr |   igva |\n",
      "|------------+----------+----------+----------+--------|\n",
      "| compressor | 6.37e+03 | \u001b[94m8.00e-01\u001b[0m | \u001b[94m3.00e+00\u001b[0m |    nan |\n",
      "+------------+----------+----------+----------+--------+\n",
      "##### RESULTS (Connection) #####\n",
      "+----+-----------+-----------+-----------+-----------+\n",
      "|    |         m |         p |         h |         T |\n",
      "|----+-----------+-----------+-----------+-----------|\n",
      "|  1 | \u001b[94m1.000e-01\u001b[0m | 6.366e+00 | 5.857e+05 | \u001b[94m1.000e+01\u001b[0m |\n",
      "|  2 | 1.000e-01 | 1.910e+01 | 6.494e+05 | 6.476e+01 |\n",
      "+----+-----------+-----------+-----------+-----------+\n"
     ]
    }
   ],
   "source": [
    "nwk.print_results()"
   ]
  },
  {
   "cell_type": "markdown",
   "metadata": {},
   "source": [
    "Since TESPy is working with an equation oriented solver, we can now change things up. For example, instead of providing\n",
    "the efficiency of the compressor, we could provide an outlet temperature. Given that temperature, the efficiency of the\n",
    "compressor will be a result of the calculation.\n",
    "\n",
    "> With the equation oriented structure the user is not constrainted in the inputs. As long as the network is well\n",
    "> determined, the solver be able to find a result. One downside of the equation oriented approach is that the a initial\n",
    "> guess for all variables is required. Bad starting values often lead to the solver being unable to find a solution. For\n",
    "> more information please have a look at the TESPy documentation. Here in detail information and best practices are\n",
    "> provided for this topic.\n",
    "\n",
    "Unsetting a parameter of a component or connection can be done using the `set_attr` method and passing the value `None`.\n",
    "Instead of unsetting the component efficiency in our example we could as well code a new script from the beginning in\n",
    "which the efficiency is not set at all. The the network's `iterinfo` attribute can to be set to `False` if no detailed\n",
    "information on the steps in which the problem has been solved is needed."
   ]
  },
  {
   "cell_type": "code",
   "execution_count": 21,
   "metadata": {},
   "outputs": [
    {
     "name": "stdout",
     "output_type": "stream",
     "text": [
      "\n",
      "##### RESULTS (Compressor) #####\n",
      "+------------+----------+----------+----------+--------+\n",
      "|            |        P |    eta_s |       pr |   igva |\n",
      "|------------+----------+----------+----------+--------|\n",
      "| compressor | 7.64e+03 | 6.67e-01 | \u001b[94m3.00e+00\u001b[0m |    nan |\n",
      "+------------+----------+----------+----------+--------+\n",
      "##### RESULTS (Connection) #####\n",
      "+----+-----------+-----------+-----------+-----------+\n",
      "|    |         m |         p |         h |         T |\n",
      "|----+-----------+-----------+-----------+-----------|\n",
      "|  1 | \u001b[94m1.000e-01\u001b[0m | 6.366e+00 | 5.857e+05 | \u001b[94m1.000e+01\u001b[0m |\n",
      "|  2 | 1.000e-01 | 1.910e+01 | 6.621e+05 | \u001b[94m7.000e+01\u001b[0m |\n",
      "+----+-----------+-----------+-----------+-----------+\n"
     ]
    }
   ],
   "source": [
    "cp.set_attr(eta_s=None)  # unset the isentropic efficiency\n",
    "c2.set_attr(T=70)\n",
    "nwk.set_attr(iterinfo=False)\n",
    "nwk.solve(\"design\")\n",
    "nwk.print_results()"
   ]
  },
  {
   "cell_type": "markdown",
   "metadata": {},
   "source": [
    "For example, we can make an invalid parameter specification by setting the mass flow at the inlet and at the outlet of\n",
    "the compressor. This overdetermines the system of equations and will result in an error when trying to solve."
   ]
  },
  {
   "cell_type": "code",
   "execution_count": 22,
   "metadata": {
    "tags": [
     "raises-exception"
    ]
   },
   "outputs": [
    {
     "ename": "TESPyNetworkError",
     "evalue": "You cannot specify two or more values for mass flow in the same linear branch (starting at source and ending at sink).",
     "output_type": "error",
     "traceback": [
      "\u001b[1;31m---------------------------------------------------------------------------\u001b[0m",
      "\u001b[1;31mTESPyNetworkError\u001b[0m                         Traceback (most recent call last)",
      "Cell \u001b[1;32mIn[22], line 2\u001b[0m\n\u001b[0;32m      1\u001b[0m c2\u001b[38;5;241m.\u001b[39mset_attr(T\u001b[38;5;241m=\u001b[39m\u001b[38;5;28;01mNone\u001b[39;00m, m\u001b[38;5;241m=\u001b[39m\u001b[38;5;241m0.1\u001b[39m)\n\u001b[1;32m----> 2\u001b[0m \u001b[43mnwk\u001b[49m\u001b[38;5;241;43m.\u001b[39;49m\u001b[43msolve\u001b[49m\u001b[43m(\u001b[49m\u001b[38;5;124;43m\"\u001b[39;49m\u001b[38;5;124;43mdesign\u001b[39;49m\u001b[38;5;124;43m\"\u001b[39;49m\u001b[43m)\u001b[49m\n",
      "File \u001b[1;32mc:\\Users\\tuschy\\miniforge3\\envs\\tespy-env\\lib\\site-packages\\tespy\\networks\\network.py:1963\u001b[0m, in \u001b[0;36mNetwork.solve\u001b[1;34m(self, mode, init_path, design_path, max_iter, min_iter, init_only, init_previous, use_cuda, print_results, prepare_fast_lane)\u001b[0m\n\u001b[0;32m   1955\u001b[0m msg \u001b[38;5;241m=\u001b[39m (\n\u001b[0;32m   1956\u001b[0m     \u001b[38;5;124m\"\u001b[39m\u001b[38;5;124mNetwork information:\u001b[39m\u001b[38;5;130;01m\\n\u001b[39;00m\u001b[38;5;124m\"\u001b[39m\n\u001b[0;32m   1957\u001b[0m     \u001b[38;5;124mf\u001b[39m\u001b[38;5;124m\"\u001b[39m\u001b[38;5;124m - Number of components: \u001b[39m\u001b[38;5;132;01m{\u001b[39;00m\u001b[38;5;28mlen\u001b[39m(\u001b[38;5;28mself\u001b[39m\u001b[38;5;241m.\u001b[39mcomps)\u001b[38;5;132;01m}\u001b[39;00m\u001b[38;5;130;01m\\n\u001b[39;00m\u001b[38;5;124m\"\u001b[39m\n\u001b[0;32m   1958\u001b[0m     \u001b[38;5;124mf\u001b[39m\u001b[38;5;124m\"\u001b[39m\u001b[38;5;124m - Number of connections: \u001b[39m\u001b[38;5;132;01m{\u001b[39;00m\u001b[38;5;28mlen\u001b[39m(\u001b[38;5;28mself\u001b[39m\u001b[38;5;241m.\u001b[39mconns)\u001b[38;5;132;01m}\u001b[39;00m\u001b[38;5;130;01m\\n\u001b[39;00m\u001b[38;5;124m\"\u001b[39m\n\u001b[0;32m   1959\u001b[0m     \u001b[38;5;124mf\u001b[39m\u001b[38;5;124m\"\u001b[39m\u001b[38;5;124m - Number of busses: \u001b[39m\u001b[38;5;132;01m{\u001b[39;00m\u001b[38;5;28mlen\u001b[39m(\u001b[38;5;28mself\u001b[39m\u001b[38;5;241m.\u001b[39mbusses)\u001b[38;5;132;01m}\u001b[39;00m\u001b[38;5;124m\"\u001b[39m\n\u001b[0;32m   1960\u001b[0m )\n\u001b[0;32m   1961\u001b[0m logger\u001b[38;5;241m.\u001b[39mdebug(msg)\n\u001b[1;32m-> 1963\u001b[0m \u001b[38;5;28;43mself\u001b[39;49m\u001b[38;5;241;43m.\u001b[39;49m\u001b[43minitialise\u001b[49m\u001b[43m(\u001b[49m\u001b[43m)\u001b[49m\n\u001b[0;32m   1965\u001b[0m \u001b[38;5;28;01mif\u001b[39;00m init_only:\n\u001b[0;32m   1966\u001b[0m     \u001b[38;5;28mself\u001b[39m\u001b[38;5;241m.\u001b[39mreset_topology_reduction_specifications()\n",
      "File \u001b[1;32mc:\\Users\\tuschy\\miniforge3\\envs\\tespy-env\\lib\\site-packages\\tespy\\networks\\network.py:878\u001b[0m, in \u001b[0;36mNetwork.initialise\u001b[1;34m(self)\u001b[0m\n\u001b[0;32m    875\u001b[0m     \u001b[38;5;28mself\u001b[39m\u001b[38;5;241m.\u001b[39mcreate_fluid_wrapper_branches()\n\u001b[0;32m    877\u001b[0m \u001b[38;5;28mself\u001b[39m\u001b[38;5;241m.\u001b[39mpropagate_fluid_wrappers()\n\u001b[1;32m--> 878\u001b[0m \u001b[38;5;28;43mself\u001b[39;49m\u001b[38;5;241;43m.\u001b[39;49m\u001b[43mpresolve_massflow_topology\u001b[49m\u001b[43m(\u001b[49m\u001b[43m)\u001b[49m\n\u001b[0;32m    879\u001b[0m \u001b[38;5;28mself\u001b[39m\u001b[38;5;241m.\u001b[39mpresolve_fluid_topology()\n\u001b[0;32m    881\u001b[0m \u001b[38;5;28mself\u001b[39m\u001b[38;5;241m.\u001b[39minit_set_properties()\n",
      "File \u001b[1;32mc:\\Users\\tuschy\\miniforge3\\envs\\tespy-env\\lib\\site-packages\\tespy\\networks\\network.py:1016\u001b[0m, in \u001b[0;36mNetwork.presolve_massflow_topology\u001b[1;34m(self)\u001b[0m\n\u001b[0;32m   1009\u001b[0m \u001b[38;5;28;01melif\u001b[39;00m num_massflow_specs \u001b[38;5;241m>\u001b[39m \u001b[38;5;241m1\u001b[39m:\n\u001b[0;32m   1010\u001b[0m     msg \u001b[38;5;241m=\u001b[39m (\n\u001b[0;32m   1011\u001b[0m         \u001b[38;5;124m\"\u001b[39m\u001b[38;5;124mYou cannot specify two or more values for mass flow in \u001b[39m\u001b[38;5;124m\"\u001b[39m\n\u001b[0;32m   1012\u001b[0m         \u001b[38;5;124m\"\u001b[39m\u001b[38;5;124mthe same linear branch (starting at \u001b[39m\u001b[38;5;124m\"\u001b[39m\n\u001b[0;32m   1013\u001b[0m         \u001b[38;5;124mf\u001b[39m\u001b[38;5;124m\"\u001b[39m\u001b[38;5;132;01m{\u001b[39;00mbranch[\u001b[38;5;124m'\u001b[39m\u001b[38;5;124mcomponents\u001b[39m\u001b[38;5;124m'\u001b[39m][\u001b[38;5;241m0\u001b[39m]\u001b[38;5;241m.\u001b[39mlabel\u001b[38;5;132;01m}\u001b[39;00m\u001b[38;5;124m and ending at \u001b[39m\u001b[38;5;124m\"\u001b[39m\n\u001b[0;32m   1014\u001b[0m         \u001b[38;5;124mf\u001b[39m\u001b[38;5;124m\"\u001b[39m\u001b[38;5;132;01m{\u001b[39;00mbranch[\u001b[38;5;124m'\u001b[39m\u001b[38;5;124mcomponents\u001b[39m\u001b[38;5;124m'\u001b[39m][\u001b[38;5;241m-\u001b[39m\u001b[38;5;241m1\u001b[39m]\u001b[38;5;241m.\u001b[39mlabel\u001b[38;5;132;01m}\u001b[39;00m\u001b[38;5;124m).\u001b[39m\u001b[38;5;124m\"\u001b[39m\n\u001b[0;32m   1015\u001b[0m     )\n\u001b[1;32m-> 1016\u001b[0m     \u001b[38;5;28;01mraise\u001b[39;00m hlp\u001b[38;5;241m.\u001b[39mTESPyNetworkError(msg)\n\u001b[0;32m   1018\u001b[0m \u001b[38;5;28;01melse\u001b[39;00m:\n\u001b[0;32m   1019\u001b[0m     main_conn \u001b[38;5;241m=\u001b[39m branch[\u001b[38;5;124m\"\u001b[39m\u001b[38;5;124mconnections\u001b[39m\u001b[38;5;124m\"\u001b[39m][\u001b[38;5;241m0\u001b[39m]\n",
      "\u001b[1;31mTESPyNetworkError\u001b[0m: You cannot specify two or more values for mass flow in the same linear branch (starting at source and ending at sink)."
     ]
    }
   ],
   "source": [
    "c2.set_attr(T=None, m=0.1)\n",
    "nwk.solve(\"design\")"
   ]
  },
  {
   "cell_type": "markdown",
   "metadata": {},
   "source": [
    "To both train your coding capability and in this make use of the modelling and solving services TESPy provides you can write a script from scratch that uses TESPy to determine the pressure ratio that corresponds to an outlet temperature of 300 °C at ambient inlet conditions for an air compressor with an isentropic efficiency of 90 %. This is exactly waht we did in the untis \"Single Components\" and \"Solving Strategies\". TESPy obviously does all the job needed to define the jacobian matrix and to iteratively solve the generic problem. So most likely the code is quite compact...    "
   ]
  },
  {
   "cell_type": "markdown",
   "metadata": {},
   "source": [
    "### Modeling a Heat Exchanger\n",
    "\n",
    "In the second example we are going to model a heat exchanger as shown in the flowsheet below, specifically\n",
    "an evaporator using heat from ambient air to completely evaporate the working fluid R290 (Propane). The \n",
    "parameters we want to use are listed in the table below.\n",
    "\n",
    "![Heat Exchanger Heat Balance Diagram](img/HeatExchanger.svg)\n",
    "\n",
    "\n",
    "\n",
    "| parameter description    | model location | model parameter | value | unit |\n",
    "|:-----------------------  |:-------------- |:--------------- | -----:|:---- |\n",
    "| refrigerant gas state    | refrigerant in | `x`             |    25 | %    |\n",
    "| refrigerant temperature  |                | `T`             |     0 | °C   |\n",
    "| air mass flow            | air in         | `m`             |     1 | kg/s |\n",
    "| air pressure             |                | `p`             |     1 | bar  |\n",
    "| air inlet temperature    |                | `T`             |     7 | °C   |\n",
    "| air outlet temperature   | air out        | `T`             |     4 | °C   |\n",
    "| pressure ratio hot side  | component      | `pr1`           |     1 | -    |\n",
    "| pressure ratio cold side |                | `pr2`           |     1 | -    |\n",
    "\n",
    "\n",
    "Similar to the compressor example we work with a `Network` instance, this time two fluids are required, i.e. air and\n",
    "R290. We create the `HeatExchanger` component and connect and parametrize it according to the flowsheet and the data\n",
    "listed in the table.\n",
    "\n",
    "In order to improve the convergence a starting value for the pressure of the refrigerant can be provided. This is \n",
    "achieved by setting the parameter `p0` at the respective connection."
   ]
  },
  {
   "cell_type": "code",
   "execution_count": 23,
   "metadata": {},
   "outputs": [
    {
     "name": "stdout",
     "output_type": "stream",
     "text": [
      "\n",
      "##### RESULTS (HeatExchanger) #####\n",
      "+------------+-----------+----------+----------+----------+----------+-----------+----------+----------+----------+----------+----------+----------+------------+-----------+-----------+\n",
      "|            |         Q |       kA |   td_log |    ttd_u |    ttd_l |   ttd_min |      pr1 |      pr2 |      dp1 |      dp2 |    zeta1 |    zeta2 |   eff_cold |   eff_hot |   eff_max |\n",
      "|------------+-----------+----------+----------+----------+----------+-----------+----------+----------+----------+----------+----------+----------+------------+-----------+-----------|\n",
      "| evaporator | -3.02e+03 | 5.63e+02 | 5.36e+00 | 7.00e+00 | 4.00e+00 |  4.00e+00 | \u001b[94m1.00e+00\u001b[0m | \u001b[94m1.00e+00\u001b[0m | 0.00e+00 | 0.00e+00 | 0.00e+00 | 0.00e+00 |   9.58e-01 |  4.29e-01 |  9.58e-01 |\n",
      "+------------+-----------+----------+----------+----------+----------+-----------+----------+----------+----------+----------+----------+----------+------------+-----------+-----------+\n",
      "##### RESULTS (Connection) #####\n",
      "+----+-----------+-----------+-----------+-----------+\n",
      "|    |         m |         p |         h |         T |\n",
      "|----+-----------+-----------+-----------+-----------|\n",
      "|  1 | \u001b[94m1.000e+00\u001b[0m | \u001b[94m1.000e+00\u001b[0m | 4.063e+05 | \u001b[94m7.000e+00\u001b[0m |\n",
      "|  2 | 1.000e+00 | 1.000e+00 | 4.033e+05 | \u001b[94m4.000e+00\u001b[0m |\n",
      "|  3 | 1.073e-02 | 4.745e+00 | 2.937e+05 | \u001b[94m2.451e-10\u001b[0m |\n",
      "|  4 | 1.073e-02 | 4.745e+00 | 5.749e+05 | 2.451e-10 |\n",
      "+----+-----------+-----------+-----------+-----------+\n"
     ]
    }
   ],
   "source": [
    "from tespy.networks import Network\n",
    "from tespy.components import Source, Sink, HeatExchanger\n",
    "from tespy.connections import Connection\n",
    "from CoolProp.CoolProp import PropsSI as PSI\n",
    "\n",
    "\n",
    "nwk = Network(p_unit=\"bar\", T_unit=\"C\", iterinfo=False)\n",
    "\n",
    "so_wf = Source(\"working fluid source\")\n",
    "si_wf = Sink(\"working fluid sink\")\n",
    "so_air = Source(\"air source\")\n",
    "si_air = Sink(\"air sink\")\n",
    "eva = HeatExchanger(\"evaporator\")\n",
    "\n",
    "c1 = Connection(so_air, \"out1\", eva, \"in1\", label=\"1\")\n",
    "c2 = Connection(eva, \"out1\", si_air, \"in1\", label=\"2\")\n",
    "c3 = Connection(so_wf, \"out1\", eva, \"in2\", label=\"3\")\n",
    "c4 = Connection(eva, \"out2\", si_wf, \"in1\", label=\"4\")\n",
    "\n",
    "nwk.add_conns(c1, c2, c3, c4)\n",
    "\n",
    "c1.set_attr(fluid={\"Air\": 1}, T=7, p=1, m=1)\n",
    "c2.set_attr(T=4)\n",
    "c3.set_attr(fluid={\"R290\": 1}, T=0, x=0.25)\n",
    "# specification of a pressure guess value for convergence improvement\n",
    "c4.set_attr(x=1, p0=5)\n",
    "\n",
    "eva.set_attr(pr1=1, pr2=1)\n",
    "\n",
    "nwk.solve(\"design\")\n",
    "nwk.print_results()"
   ]
  },
  {
   "cell_type": "markdown",
   "metadata": {},
   "source": [
    "After running the simulation we can see the heat transferred from the air to the working fluid, both mass flows, or the\n",
    "temperature differences between the hot side (air) and the cold side (R290), `ttd_1`. Instead of providing a fixed temperature\n",
    "value for the evaporation temperature level, we can provide a temperature difference to the air temperature level. When\n",
    "the air temperature changes, adjusts the evaporation pressure/temperature of the working fluid automatically.\n",
    "\n",
    "The example below also shows, how calculated values can be accessed after a TESPy calculation. In this case\n",
    "the value of the temperature at the refrigerat inlet is reffered to by `c3.T.val`."
   ]
  },
  {
   "cell_type": "code",
   "execution_count": 24,
   "metadata": {},
   "outputs": [
    {
     "data": {
      "text/plain": [
       "-1.0000000000001137"
      ]
     },
     "execution_count": 24,
     "metadata": {},
     "output_type": "execute_result"
    }
   ],
   "source": [
    "eva.set_attr(ttd_l=5)\n",
    "c3.set_attr(T=None)\n",
    "nwk.solve(\"design\")\n",
    "c3.T.val"
   ]
  },
  {
   "cell_type": "markdown",
   "metadata": {},
   "source": [
    "This could also be calculated for a number of different air inlet temperatures, e.g. -5 °C, 0 °C, 5 °C \n",
    "and 10 °C, and a fixed cool down of the air of let's say 3 K. Both the inlet temperatures and the resulting\n",
    "evaporation temperatures can be stored in an array and by this efficiently be used."
   ]
  },
  {
   "cell_type": "code",
   "execution_count": 25,
   "metadata": {},
   "outputs": [
    {
     "data": {
      "text/plain": [
       "[-13.0, -8.0, -3.0, 2.0]"
      ]
     },
     "execution_count": 25,
     "metadata": {},
     "output_type": "execute_result"
    }
   ],
   "source": [
    "T_evaporation = []\n",
    "for T_air in [-5, 0, 5, 10]:\n",
    "    c1.set_attr(T=T_air)\n",
    "    c2.set_attr(T=T_air - 3)\n",
    "    nwk.solve(\"design\")\n",
    "    T_evaporation += [round(c3.T.val, 1)]\n",
    "\n",
    "T_evaporation"
   ]
  },
  {
   "cell_type": "markdown",
   "metadata": {},
   "source": [
    "As an exercise you could try to determine the air mass flow needed to evaporate a certain amount of \n",
    "refrigerant or the mass of refrigerant that can be evaporated with 1 MW of heat taken from the air.\n",
    "There are obviously quite a number of relevant constellation that can be covered by this setup... "
   ]
  },
  {
   "cell_type": "markdown",
   "metadata": {},
   "source": [
    "## Learn more\n",
    "\n",
    "TESPy relies on CoolProp to provide fluid property data for a large range of different fluids . The\n",
    "online documentation of TESPy provides a large variety of examples and tutorials to learn to use the software as well as\n",
    "extensive background information and code documentation:\n",
    "\n",
    "- online documentation [https://tespy.readthedocs.io](https://tespy.readthedocs.io)\n",
    "- github repository [https://github.com/oemof/tespy](https://github.com/oemof/tespy)\n",
    "- user forum [https://github.com/oemof/tespy/discussions](https://github.com/oemof/tespy/discussions)\n"
   ]
  }
 ],
 "metadata": {
  "kernelspec": {
   "display_name": "tespy-env",
   "language": "python",
   "name": "python3"
  },
  "language_info": {
   "codemirror_mode": {
    "name": "ipython",
    "version": 3
   },
   "file_extension": ".py",
   "mimetype": "text/x-python",
   "name": "python",
   "nbconvert_exporter": "python",
   "pygments_lexer": "ipython3",
   "version": "3.9.21"
  },
  "orig_nbformat": 4
 },
 "nbformat": 4,
 "nbformat_minor": 2
}
