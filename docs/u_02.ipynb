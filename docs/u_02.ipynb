{
 "cells": [
  {
   "cell_type": "markdown",
   "metadata": {},
   "source": [
    "# Single Components\n",
    "\n",
    "In this session we will use python to perform some simple component calculations. Doing this we will\n",
    "\n",
    "- Wrap up what typical components in thermal engineering like\n",
    "    - Heat exchangers or\n",
    "    - Compressors\n",
    "\n",
    "    do,\n",
    "    \n",
    "- Transfer analytic calculation to code,\n",
    "- Visualize component behavior and\n",
    "- Understand challenges and options related to numerical calculations.\n",
    "\n",
    "## Heat Exchangers\n",
    "\n",
    "Heat exchangers are key components of many plants and systems in thermal engineering. They are available in a lot of different designs and can transfer heat from and allmost any fluid. In this course we do not analyse mechanisms and of heat transfer or construction aspects in detail although both are a field of specialization within thermal engineering. What we will focus on is how heat exchangers can be modelled as components that transfer energy from or to fluids that run through bigger thermal engineering systems.     \n",
    "\n",
    "### Air heater\n",
    "\n",
    "To start dealing with heat exchangers we consider a device to heat up air. This could generally be done in any kind of heat exchanger. Just to illustrate one construction type the figure below shows a tubular heat exchanger in which heat is transferred from one fluid to another. Plate type heat exchangers are another typical construction form for fluid to fluid heaters an there are many more.\n",
    "\n",
    "![tubular heat exchanger](img\\Tubular_heat_exchanger.png)\n",
    "\n",
    "To keep it simple at the beginning we only consider the fluid that ist heated up and think if the respective engineering device as some kind of single sided heat exchanger. Additionally  we treat the fluid as a perfect gas. From the last unit we know, this is quite sensible as long as pressures are not too high and temperatures not too low. Last but not least we are going to neglect changes in velocity or height of the air that might occure between entering and leaving the heat exchanger.\n",
    "\n",
    "Before we start to calculate the component we have to collect suitable equations and idetify which information is needed. The most basic approach to calculate heat flow $\\dot Q$ transferred from or to a fluid is\n",
    "$$\n",
    "\\dot{Q} = \\dot {m} \\left( h_{out} - h_{in} \\right)\n",
    "$$\n",
    "and depending on the mass flow $\\dot m$ and the difference of specific enthalpies between inlet and outlet which for perfect gases can be calculated using the specific isobaric heat capacity $c_p$\n",
    "$$\n",
    "h_{out} - h_{in} = c_p \\left(T_{out} - T_{in} \\right)\n",
    "$$\n",
    "based on the temperature difference of the gas between in- and outlet.\n",
    "\n",
    "The most obvious approach is to use python to calculate the heat exchanger duty $\\dot Q$. This could be a typical task when designing a heat exchanger to heat up a certain mass flow from one temperature to another. A very simple script to determine the respective heat exchanger duty could look like this.   "
   ]
  },
  {
   "cell_type": "code",
   "execution_count": 1,
   "metadata": {},
   "outputs": [
    {
     "name": "stdout",
     "output_type": "stream",
     "text": [
      "1100000.0\n"
     ]
    }
   ],
   "source": [
    "# ideal gas parameters\n",
    "c_p = 1100 # specific heat of air in J/(kgK)\n",
    "\n",
    "# inlet conditions\n",
    "m_1 = 10 # mass flow in kg/s\n",
    "t_1 = 293.15 # temperature in K\n",
    "\n",
    "# outlet conditions\n",
    "t_2 = 393.15 # temperature in K\n",
    "\n",
    "# calculate heat exchanger duty in W\n",
    "q = m_1 * c_p * (t_2 - t_1)\n",
    "\n",
    "print(q)"
   ]
  },
  {
   "cell_type": "markdown",
   "metadata": {},
   "source": [
    "Another common situation in thermal engineering could be that operation data is recorded. The data that would be measured most likely would be the temperatures at in- and outlet. If the air is heated up using some kind of direct electrical heater, the duty could also easily be measured. In this case it would be interesting to determine the mass flow of the air as it could be tricky to measure it. A python script to calculate the mass flow neglecting any losses could easily be derived from the script above as just some of the variables and calculations need to be changed."
   ]
  },
  {
   "cell_type": "code",
   "execution_count": 2,
   "metadata": {},
   "outputs": [
    {
     "name": "stdout",
     "output_type": "stream",
     "text": [
      "9.090909090909092\n"
     ]
    }
   ],
   "source": [
    "# ideal gas parameters\n",
    "c_p = 1100 # specific heat of air in J/(kgK)\n",
    "\n",
    "# inlet conditions\n",
    "t_1 = 293.15 # temperature in K\n",
    "\n",
    "# outlet conditions\n",
    "t_2 = 393.15 # temperature in K\n",
    "\n",
    "q = 1000000 # heat exchanger duty in W\n",
    "\n",
    "# calculate mass flow in kg/s\n",
    "m = q / (c_p * (t_2 - t_1))\n",
    "\n",
    "print(m)\n"
   ]
  },
  {
   "cell_type": "markdown",
   "metadata": {},
   "source": [
    "Finally a question could be to what temeperature a certain mass flow could be heated up with a given heat flow. Again, it is more or less a question of basic mathematics to code a script to calculate the outlet temperature instead of duty or mass flow."
   ]
  },
  {
   "cell_type": "code",
   "execution_count": 3,
   "metadata": {},
   "outputs": [
    {
     "name": "stdout",
     "output_type": "stream",
     "text": [
      "384.05909090909086\n"
     ]
    }
   ],
   "source": [
    "# ideal gas parameters\n",
    "c_p = 1100 # specific heat of air in J/(kgK)\n",
    "\n",
    "# inlet conditions\n",
    "m_1 = 10 # mass flow in kg/s\n",
    "t_1 = 293.15 # temperature in K\n",
    "\n",
    "# outlet conditions\n",
    "\n",
    "q = 1000000 # heat exchanger duty in W\n",
    "\n",
    "# calculate outlet temperature in K\n",
    "t_2 = t_1 + q / (m_1 * c_p)\n",
    "\n",
    "print(t_2)\n"
   ]
  },
  {
   "cell_type": "markdown",
   "metadata": {},
   "source": [
    "To check how the assuption that the air could be treated as an ideal gas affects the results we now switch medium to pressureless but real gas air. As a consequence both the set of equations and the scripts have to be revised. The new script for calculating the duty is quite simlilar to the respective approach for ideal gases as one could see here."
   ]
  },
  {
   "cell_type": "code",
   "execution_count": 4,
   "metadata": {},
   "outputs": [
    {
     "name": "stdout",
     "output_type": "stream",
     "text": [
      "1009032.6831157284\n"
     ]
    }
   ],
   "source": [
    "# properties will be calculated using CoolProp\n",
    "from CoolProp.CoolProp import PropsSI as prop\n",
    "\n",
    "# fluid information\n",
    "fluid = 'air'\n",
    "\n",
    "# inlet conditions\n",
    "m_1 = 10 # mass flow in kg/s\n",
    "t_1 = 293.15 # temperature in K\n",
    "p_1 = 1 * 10**5 # pressure in Pa\n",
    "\n",
    "# outlet conditions\n",
    "t_2 = 393.15 # temperature in K\n",
    "\n",
    "# clalculate missing properties\n",
    "h_1 = prop('H', 'P', p_1, 'T', t_1, fluid)\n",
    "p_2 = p_1\n",
    "h_2 = prop('H', 'P', p_2, 'T', t_2, fluid)\n",
    "\n",
    "# claculate duty in W\n",
    "q = m_1 * (h_2 - h_1)\n",
    "\n",
    "print(q)\n"
   ]
  },
  {
   "cell_type": "markdown",
   "metadata": {},
   "source": [
    "However, to calculate the outlet temperature a different approach is needed the relation between enthalpy an temperature is no longer easy to describe. A respective script for real gases could look like this."
   ]
  },
  {
   "cell_type": "code",
   "execution_count": 5,
   "metadata": {},
   "outputs": [
    {
     "name": "stdout",
     "output_type": "stream",
     "text": [
      "392.2585721586641\n"
     ]
    }
   ],
   "source": [
    "# use CoolProp for property calculations\n",
    "from CoolProp.CoolProp import PropsSI as prop\n",
    "\n",
    "# fluid information\n",
    "fluid = 'air'\n",
    "\n",
    "# inlet conditions\n",
    "m_1 = 10 # mass flow in kg/s\n",
    "t_1 = 293.15 # temperature in K\n",
    "p_1 = 1 * 10**5 # pressure in Pa\n",
    "\n",
    "# HX duty\n",
    "q = 1000000 # heat exchanger duty in W\n",
    "\n",
    "# calculate missiong conditions\n",
    "h_1 = prop('H', 'P', p_1, 'T', t_1, fluid)\n",
    "p_2 = p_1\n",
    "\n",
    "# calculate outlet temperature in K\n",
    "h_2 = h_1 + q / m_1\n",
    "\n",
    "t_2 = prop('T', 'P', p_2, 'H', h_2, fluid)\n",
    "\n",
    "print(t_2)\n"
   ]
  },
  {
   "cell_type": "markdown",
   "metadata": {},
   "source": [
    "### Steam Condenser\n",
    "\n",
    "Up to this point we only considered sensible heat to be transferred in a heat exchanger. This holds for many applications in thermal engineering. But there are also some heat exchangers of great relevance in which latent heat is the dominating or even sole effect. One of the most common devices in thermal engineering with condensing fluids is a steam condender. The figure below illustrates a respective apparatus. \n",
    "\n",
    "![condenser](img\\Condenser.png)\n",
    "\n",
    "Again, we will consider only one side of this heat exchanger. For our next script we assume that wet steam with a vapour content of 90 % is to be condensed to sasturated liquid. Before we code a respective script, we have to know that CoolProp uses the letter \"Q\" for the quality of a two phase mixture. Q is zero for satureted liquid and 1 for saturated gas. So to adapt our script for calculating a heat exchanger duty we have to revise the set of equations a little, but after that the solution is quite straight-forward."
   ]
  },
  {
   "cell_type": "code",
   "execution_count": 6,
   "metadata": {},
   "outputs": [
    {
     "name": "stdout",
     "output_type": "stream",
     "text": [
      "-20316993.899718054\n"
     ]
    }
   ],
   "source": [
    "from CoolProp.CoolProp import PropsSI as prop\n",
    "\n",
    "# fluid information\n",
    "fluid = 'water'\n",
    "\n",
    "# inlet conditions\n",
    "m_1 = 10 # mass flow in kg/s\n",
    "p_1 = 1 * 10**5 # pressure in Pa\n",
    "x_1 = 0.9 # steam quality\n",
    "\n",
    "# outlet conditions\n",
    "x_2 = 0 # steam quality for complete condensation\n",
    "\n",
    "# calculate missing properties\n",
    "h_1 = prop('H', 'P', p_1, 'Q', x_1, fluid)\n",
    "p_2 = p_1\n",
    "h_2 = prop('H', 'P', p_2, 'Q', x_2, fluid)\n",
    "\n",
    "# calculate duty\n",
    "q = m_1 * (h_2 - h_1)\n",
    "\n",
    "print(q)"
   ]
  },
  {
   "cell_type": "markdown",
   "metadata": {},
   "source": [
    "One should not be irritated of the negative result, as the heat is drawn from the steam and not put into it."
   ]
  },
  {
   "cell_type": "markdown",
   "metadata": {},
   "source": [
    "## Compressor\n",
    "\n",
    "Now let's switch to another key component in thermal engineering. The illustration below shows an axial compressor in which for examplr ait could be compressed.\n",
    "\n",
    "![compressor](img\\Axial_compressor.gif)\n",
    "\n",
    "The symbol to reperesent compressors in heat balace diagrams is shown below. We will use heat balance diagramms to represent a network of components when we turn to more complex processes in later units of this course. For now we continue to focus on single components. \n",
    "\n",
    "![compressor heat balance diagramm sysmbol](img\\CompressorSymbol.svg)\n",
    "\n",
    "Our next tasks will refer to the compressor. We instantlystick to air as a working fluid but start treating the air as a real gas from the beginning. Again we have to identify a suitable set of equations to describe the operation of the compressor first. The energy balacing equation is quite similar to what we did before as loong as we assume the compressor to be well isolated, i.e. adiabatic in terms of engineering thermodynamcs.\n",
    "\n",
    "$$\n",
    "P = \\dot m \\left( h_{out} - h_{in} \\right) \n",
    "$$\n",
    "\n",
    "For thermodynamic properties we will again use CoolProp so there is nothing new to consider in general concerning the caloric properties. But there is another important thing to consider looking at adiabatic turbomachinery. This is the isentropic efficiency of the component. In case of compressors it is defined as\n",
    "\n",
    "$$\n",
    "\\eta_s = \\frac{\\Delta h_s}{\\Delta h}\n",
    "$$\n",
    "\n",
    "in which $\\Delta h_s$ is the isentropic enthalpy difference, i.e. the minimum enthalpy rise that would be needed to lift the working fluid from the compressor's inlet conditions to the outlet pressure. This would be if the specific entropy $s§ at the outlet would not differ from that at the inlet.\n",
    "\n",
    "When designing a compressor in thermal engineering experienced manufacturers and users typically have an expectation concerning the isentropic efficiency. Although this could be considered some kind of first guess befor starting into detail engineering of the respective turbomachinery the expected efficiency can serve as a starting point for claculating the compressor duty for a given massflow if a working fluid has to be compressed from known inlet conditions to a certain pressure. In combination with its efficiency the compressor's pressure ratio\n",
    "\n",
    "$$\n",
    "\n",
    "\\Pi_C = \\frac{p_{out}}{p_{in}}\n",
    "\n",
    "$$\n",
    "\n",
    "defines the performance data of a compressor.\n",
    "\n",
    "A script to calculate the compressor duty based on this information could be implemented like this."
   ]
  },
  {
   "cell_type": "code",
   "execution_count": 7,
   "metadata": {},
   "outputs": [
    {
     "name": "stdout",
     "output_type": "stream",
     "text": [
      "3042655.0535690766\n"
     ]
    }
   ],
   "source": [
    "# use CoopProp for property calculation\n",
    "from CoolProp.CoolProp import PropsSI as prop\n",
    "\n",
    "# fluid information\n",
    "fluid = 'air'\n",
    "\n",
    "# inlet properties\n",
    "m_1 = 10 # mass flow in kg/s\n",
    "p_1 = 1 * 10**5 # pressure in Pa\n",
    "t_1 = 293.15 # temperature in K\n",
    "\n",
    "# compressor data\n",
    "pr = 10 # pressure ratio\n",
    "eta_c = 0.9 # isentropic efficiency\n",
    "\n",
    "# calculate missing properties\n",
    "h_1 = prop('H', 'P', p_1, 'T', t_1, fluid)\n",
    "\n",
    "# make use of component data\n",
    "p_2 = p_1 * pr\n",
    "s_1 = prop('S', 'P', p_1, 'H', h_1, fluid)\n",
    "h_2s = prop('H', 'P', p_2, 'S', s_1, fluid)\n",
    "h_2 = h_1 + (h_2s - h_1) / eta_c\n",
    "\n",
    "# calculate compressor duty\n",
    "power = m_1 * (h_2 - h_1)\n",
    "\n",
    "print(power)"
   ]
  },
  {
   "cell_type": "markdown",
   "metadata": {},
   "source": [
    "It is very simple to adapt the script to calculate the air mass flow as it can be seen below. With measured temperatures at in- and outlet it would be even easier.\n"
   ]
  },
  {
   "cell_type": "code",
   "execution_count": 8,
   "metadata": {},
   "outputs": [
    {
     "name": "stdout",
     "output_type": "stream",
     "text": [
      "3.2866032540461205\n"
     ]
    }
   ],
   "source": [
    "# use CoopProp for property calculation\n",
    "from CoolProp.CoolProp import PropsSI as prop\n",
    "\n",
    "# fluid information\n",
    "fluid = 'air'\n",
    "\n",
    "# inlet properties\n",
    "p_1 = 1 * 10**5 # pressure in Pa\n",
    "t_1 = 293.15 # temperature in K\n",
    "\n",
    "# compressor data\n",
    "pr = 10 # pressure ratio\n",
    "eta_c = 0.9 # isentropic efficiency\n",
    "\n",
    "# compressor duty\n",
    "power = 10**6 # compressor duty in W\n",
    "\n",
    "# calculate missing properties\n",
    "h_1 = prop('H', 'P', p_1, 'T', t_1, fluid)\n",
    "\n",
    "# make use of component data\n",
    "p_2 = p_1 * pr\n",
    "s_1 = prop('S', 'P', p_1, 'H', h_1, fluid)\n",
    "h_2s = prop('H', 'P', p_2, 'S', s_1, fluid)\n",
    "h_2 = h_1 + (h_2s - h_1) / eta_c\n",
    "\n",
    "# calculate mass flow in kg/s\n",
    "m_1 = power / (h_2 - h_1)\n",
    "\n",
    "print(m_1)"
   ]
  },
  {
   "cell_type": "markdown",
   "metadata": {},
   "source": [
    "To determine the outlet temperature instead of the power is very simple. Actually for this not even the mass flow is needed. The outlet temperature can be derived from the above mentioned performance data independently of the scale of the device. Plotting the outlet temperatures for different component data can hence give insights of expectable temperatures for compressors of arbitrary size."
   ]
  },
  {
   "cell_type": "code",
   "execution_count": 9,
   "metadata": {},
   "outputs": [
    {
     "data": {
      "image/png": "[encoded data removed]",
      "text/plain": [
       "<Figure size 640x480 with 1 Axes>"
      ]
     },
     "metadata": {},
     "output_type": "display_data"
    }
   ],
   "source": [
    "# use CoopProp for properties\n",
    "from CoolProp.CoolProp import PropsSI as prop\n",
    "\n",
    "# use matplotlib for plotting\n",
    "import matplotlib.pyplot as plt\n",
    "\n",
    "# use numpy for efficient handling of arrays\n",
    "import numpy as np\n",
    "\n",
    "\n",
    "# fluid information\n",
    "fluid = 'air'\n",
    "\n",
    "# inlet conditions\n",
    "m_1 = 10 # mass flow in kg/s\n",
    "p_1 = 1 * 10 **5 # pressure in Pa\n",
    "t_1 = 293.15 # temperature in K\n",
    "\n",
    "# compressor data\n",
    "pr_min = 1 # minimum pressure ratio\n",
    "pr_max = 20 # maximum pressure ratio\n",
    "eta_min = 0.7 # minimum efficiency\n",
    "eta_max = 0.95 # maximum efficiency\n",
    "\n",
    "pr_range = np.linspace(pr_min, pr_max, num=200)\n",
    "eta_range = np.linspace(eta_min, eta_max, num=6)\n",
    "\n",
    "# calculate maximum outlet temperature\n",
    "def calc_t2(p_in, h_in, pr, eta, medium):\n",
    "    '''\n",
    "    calculates outlet temperature\n",
    "    '''\n",
    "    s_in = prop('S', 'P', p_in, 'H', h_in, medium)\n",
    "    h_out_s = prop('H', 'P', p_in*pr, 'S', s_in, medium)\n",
    "    h_out = h_in + (h_out_s - h_in) / eta\n",
    "    return prop('T', 'P', p_in*pr, 'H', h_out, medium)\n",
    "\n",
    "# calculate missing properties\n",
    "h_1 = prop('H', 'P', p_1, 'T', t_1, fluid)\n",
    "\n",
    "# calculate outlet temperature\n",
    "t_2max = calc_t2(p_1, h_1, pr_max, eta_min, fluid)\n",
    "\n",
    "t_2 = [calc_t2(p_1, h_1, pr_range, eta_c, fluid) for eta_c in eta_range]\n",
    "\n",
    "# plot outlet temperatures\n",
    "fig = plt.figure()\n",
    "ax = fig.add_subplot(111)\n",
    "for t in t_2:\n",
    "    ax.plot(pr_range, t-273.15)\n",
    "ax.set_ylabel('Outlet Temperature in °C')\n",
    "ax.set_ylim(t_1-273.15, t_2max-273.15)\n",
    "ax.set_xlabel('Pressure Ratio')\n",
    "ax.set_xlim(pr_min, pr_max)\n",
    "ax.grid(True)\n",
    "labels = [f'eta = {(eta):2.0%}' for eta in eta_range]\n",
    "ax.legend(labels)\n",
    "ax.set_title(f'Air Compressor Performance for {t_1-273.15} °C and {p_1/10**5} bar at inlet' )\n",
    "plt.show()\n"
   ]
  },
  {
   "cell_type": "markdown",
   "metadata": {},
   "source": [
    "To determine the compressor pressure ratio that leads to a temperature of 300°C at the compressed air outlet with an efficiency of 90 %, however, is not that easy. As soon as the working fluid can not be described using very equations of state, the script cannot be reversed by just doing some maths on the basic equations. Of course it is still possible to find the solution. Maybe this is the first time it turns out that using python (or any other programming language) is not just nice to have, but realy a facilating engineering aproach to solve a respective problem with reasonable effort.  "
   ]
  },
  {
   "cell_type": "code",
   "execution_count": 10,
   "metadata": {},
   "outputs": [
    {
     "name": "stdout",
     "output_type": "stream",
     "text": [
      "293.1499999999991\n",
      "573.15\n",
      "719.5889839177461\n",
      "feasible\n",
      "9.005332946777344\n"
     ]
    },
    {
     "data": {
      "text/plain": [
       "17"
      ]
     },
     "execution_count": 10,
     "metadata": {},
     "output_type": "execute_result"
    }
   ],
   "source": [
    "# use CoolProp\n",
    "from CoolProp.CoolProp import PropsSI as props\n",
    "\n",
    "# fluid information\n",
    "fluid = 'air'\n",
    "\n",
    "# inlet conditions\n",
    "m_1 = 10 # mass flow in kg/s\n",
    "p_1 = 1 * 10**5 # inlet pressure in Pa\n",
    "t_1 = 293.15 #inlet temperature in K\n",
    "\n",
    "# compressor data\n",
    "eta_c = 0.9 # compressor isentropic efficiency\n",
    "pr_min = 1 # minimum pressure ratio\n",
    "pr_max = 20 # maximum pressure ratio\n",
    "\n",
    "# outlet conditions\n",
    "t_2_target = 573.15 # target compressor outlet tempertature in K\n",
    "\n",
    "\n",
    "# calculate missing properties\n",
    "h_1 = props('H', 'P', p_1, 'T', t_1, fluid)\n",
    "s_1 = props('S', 'P', p_1, 'H', h_1, fluid)\n",
    "\n",
    "# calculate outlet temperature\n",
    "def calc_t_out_pr(pr, eta, p_in, h_in, medium):\n",
    "    '''\n",
    "    function for calculating outlet temperatures\n",
    "    as a function of pressure ratio\n",
    "    '''\n",
    "    s_in = props('S', 'P', p_in, 'H', h_in, medium)\n",
    "    h_out_s = props('H', 'P', p_in*pr, 'S', s_in, medium)\n",
    "    h_out = h_in + (h_out_s - h_in) / eta\n",
    "    t_out = props('T', 'P', p_in*pr, 'H', h_out, medium)\n",
    "    return t_out\n",
    "\n",
    "t_2_min = calc_t_out_pr(pr_min, eta_c, p_1, h_1, fluid)\n",
    "t_2_max = calc_t_out_pr(pr_max, eta_c, p_1, h_1, fluid)\n",
    "\n",
    "print(t_2_min)\n",
    "print(t_2_target)\n",
    "print(t_2_max)\n",
    "\n",
    "# find pressure ratio for target outlet temperature\n",
    "if (t_2_min < t_2_target) and (t_2_target < t_2_max):\n",
    "    print('feasible')\n",
    "    # define search area\n",
    "    pr_low = pr_min\n",
    "    pr_high = pr_max\n",
    "    t_low = t_2_min\n",
    "    t_high = t_2_max\n",
    "    pr_found = False\n",
    "    # bi-sectional search\n",
    "    while not pr_found:\n",
    "        # print(f'searching, pressure ratio is between {pr_low} and {pr_high}')\n",
    "        pr_new = (pr_low + pr_high)/2\n",
    "        t_new = calc_t_out_pr(pr_new, eta_c, p_1, h_1, fluid)\n",
    "        if t_new > t_2_target:\n",
    "            pr_high = pr_new\n",
    "        elif t_new < t_2_target:\n",
    "            pr_low = pr_new\n",
    "        else:\n",
    "            pr_low = pr_new\n",
    "        pr_found = abs(t_new - t_2_target) < 0.001\n",
    "else:\n",
    "    print('out of range')\n",
    "\n",
    "# print('done')\n",
    "print(pr_new)"
   ]
  },
  {
   "cell_type": "markdown",
   "metadata": {},
   "source": [
    "You may notice that bisectional search, i.e. a very robust algorithm, has been chosen in the example above to find the solution iteratively. Other algorithms would also be possible."
   ]
  },
  {
   "cell_type": "markdown",
   "metadata": {},
   "source": [
    "## Next Steps\n",
    "\n",
    "In the next unit we will try to generalize how typical problems in thermal engineering can be solved using numerical methods. To prepare for that you can try to find out what information is needed to calculate arbitraty components in thermal engineering with one inlet and one outlet. Additionally, you should wrap up some basics concerning numerical methods, especially for zero search and ways to solve not just one but a set of equations.\n",
    "\n",
    "To train and maybe reactivate your know-how on basic components you could also consider other typical devices, like throttles or steam turbines in a similar way as to we looked at heat exchangers or compressors in this unit."
   ]
  }
 ],
 "metadata": {
  "kernelspec": {
   "display_name": "tespy-env",
   "language": "python",
   "name": "python3"
  },
  "language_info": {
   "codemirror_mode": {
    "name": "ipython",
    "version": 3
   },
   "file_extension": ".py",
   "mimetype": "text/x-python",
   "name": "python",
   "nbconvert_exporter": "python",
   "pygments_lexer": "ipython3",
   "version": "3.9.21"
  }
 },
 "nbformat": 4,
 "nbformat_minor": 2
}
