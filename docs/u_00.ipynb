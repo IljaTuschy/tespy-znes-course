{
 "cells": [
  {
   "cell_type": "markdown",
   "metadata": {},
   "source": [
    "# Introduction\n",
    "\n",
    "Thermal engineering deals with components and systems in wich fluids are used for energy conversion or transport. Simulation is an important approach in this field of engineering. It is used for designing technical devices or systems and to predict their operation under different boundary conditions.\n",
    "\n",
    "TESPy is an abbreviation for Thermal Engineering Systems in Python. Thermal engineering with python is the subject of this course. And TESPy is the (short) name of an open source toolkit that has been developed at Flensburg University of Applied Sciences. The course is suited for master students in the field of energy engineering and designed as an step by step introduction to TESPy and the concepts behind. It is aimed at handling typical tasks in thermal engineering using the easy to apply but yet powerful concepts python offers for scientific computing. \n",
    "\n",
    "## Course Objectives\n",
    "\n",
    "Course objectives target both on developing subject related know-how and on gaining methodical expertise. This includes:\n",
    "\n",
    "- In-depth understanding of thermal engineering processes \n",
    "- Modelling competence for respective steady state simulations\n",
    "- Utilization of computing power for enhanced process analysis\n",
    "- Application of python open source software packages\n",
    "\n",
    "## Course Content\n",
    "\n",
    "The course surely cannot cover the complete field of thermal engineering. However, at least some typical areas of application can be adressed, like \n",
    "\n",
    "- Heat exchangers, compressors and other standard components\n",
    "- Heat pumps as a representative of modern heating systems\n",
    "- Hydrogen fired gas turbines as they are discussed as a backup power plant technology \n",
    "- (geothermal) ORCs for using any kind of low temperatute heat for power generation\n",
    "- Concentrating solar power plants as one other approach for renewable power generation\n",
    "\n",
    "Dealing with these technologies, students are supported to develop their engineering skills in\n",
    "\n",
    "- Simulation and automated calculation as method to speed up the process of designing components and systems\n",
    "- Structured variation of multiple parameters in order to understand and analyze sophisticated technologies and e.g. their limitis of application \n",
    "- Engineering communication using graphical and other methods\n",
    "\n",
    "## Prerequisites\n",
    "\n",
    "The course assumes that students have at least basic knowledge in engineering thermodynamics and in programming in python. Concerning the basics of engineering thermodynamics students should be familiar with these sections of the textbook Cengel/Boles: Thermodynamics 9th ed. (2018), which is available as an eBook at the Flensburg Campus Library:\n",
    "\n",
    "- Properties (section 3),\n",
    "- Engineering Devices (section 5-4), \n",
    "- Cycles (sections 9, 10, 11)\n",
    "\n",
    "Basic programming skills in python are expected on the level of the CS50P Havard introductory programming course (https://cs50.harvard.edu/python/2022/). Students should know how \n",
    "\n",
    "- Variables, \n",
    "- Functions, \n",
    "- Conditions, \n",
    "- Loops, \n",
    "- Libraries and \n",
    "- OOP\n",
    "\n",
    "are to be used in python.\n",
    "\n",
    "## Before you start\n",
    "\n",
    "Right form the start programming exercises will be part of the course. Hence, there are some things that have to be done before you start working:\n",
    "\n",
    "- install miniforge3\n",
    "- enter conda init in Miniforge Prompt\n",
    "- create an environment named \"tespy-env\" using python 3.11 and activate it\n",
    "- install tespy within this environment\n",
    "- install vs code\n",
    "- within vs code \n",
    "    - install extension Python\n",
    "    - select python interpreter accoding to your conda environment \"tespy-env\"\n",
    "\n",
    "Of course you are free to choose another editor and to set up and/or use any environment you like. For working at home or elswhere you have to set up a respective system by yourself. In the campus labs you will find computers that are prepared as described above.\n",
    "\n",
    "As soon as youare ready to take the first steps, just try to import tespy (without even using it) in a hello-world-style python script.\n"
   ]
  },
  {
   "cell_type": "code",
   "execution_count": 1,
   "metadata": {},
   "outputs": [
    {
     "name": "stdout",
     "output_type": "stream",
     "text": [
      "hello tespy!\n"
     ]
    }
   ],
   "source": [
    "import tespy\n",
    "\n",
    "print('hello tespy!')\n"
   ]
  },
  {
   "cell_type": "markdown",
   "metadata": {},
   "source": [
    "If you can read the expected output in your terminal everything is fine.\n",
    "\n",
    "A little more sophisticated code could look like this:"
   ]
  },
  {
   "cell_type": "code",
   "execution_count": 2,
   "metadata": {},
   "outputs": [
    {
     "name": "stdout",
     "output_type": "stream",
     "text": [
      "hello tespy!\n"
     ]
    }
   ],
   "source": [
    "try:\n",
    "    import tespy\n",
    "except ImportError as error:\n",
    "    print('tespy is not installed')\n",
    "else:\n",
    "    print('hello tespy!')"
   ]
  },
  {
   "cell_type": "markdown",
   "metadata": {},
   "source": [
    "As this is no class in python programming it is perfectly fine to stick with the first version. Generally speaking, if you read example solutions in this documentation that differ from what you did on your own, you should at least try to understand the differences to your code - even if both versions work. Sometimes your code will be the better solution, sometimes the solution suggested here.\n",
    "\n",
    "By the way: Whenever you are asked to code in python in this course, you should actually do it on your own. It is easy to just read or copy the code included in the course documentation. However, doing so you have a great chance to overestimate your competencies and you at least loose the chance for training for the final exam ..."
   ]
  }
 ],
 "metadata": {
  "kernelspec": {
   "display_name": "tespy-env",
   "language": "python",
   "name": "python3"
  },
  "language_info": {
   "codemirror_mode": {
    "name": "ipython",
    "version": 3
   },
   "file_extension": ".py",
   "mimetype": "text/x-python",
   "name": "python",
   "nbconvert_exporter": "python",
   "pygments_lexer": "ipython3",
   "version": "3.9.21"
  }
 },
 "nbformat": 4,
 "nbformat_minor": 2
}
