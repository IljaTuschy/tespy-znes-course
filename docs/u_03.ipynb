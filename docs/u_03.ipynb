{
 "cells": [
  {
   "cell_type": "markdown",
   "metadata": {},
   "source": [
    "# Solving Problems Numerically\n",
    "\n",
    "In this session we will use implement numerical algorithms to solve problems,\n",
    "that cannot be determined analytically, by resolving our set of equations for a\n",
    "specific variable. We will learn\n",
    "\n",
    "- how to implement a different type of numerical root finding algorithm, either\n",
    "  by writing the respective method ourselves or by using methods from the\n",
    "  python library python and \n",
    "- how to apply this to the same problems from the previous session,\n",
    "\n",
    "In this context, we will see that a change of boundary conditions may require\n",
    "to rewrite the formulation of the problem. Therefore, we will go one step\n",
    "beyond implementing basic root finding methods and learn \n",
    "\n",
    "- how we can generalize our problem formulation in a way, that rewriting the\n",
    "  code of our problem is minimized.\n",
    "\n",
    "With these learnings we will also better understand, what happens in the back\n",
    "end of respecitve software employing these types of sultion strategies."
   ]
  },
  {
   "cell_type": "markdown",
   "metadata": {},
   "source": [
    "## Root Finding Algorithms\n",
    "\n",
    "In the previous section we have already learned how to implement a very basic\n",
    "root finding algorhtim, namely the bisectional search. While it is an easy to\n",
    "implement and understand approach it does not perform well in terms of \n",
    "computational speed. Next to bisecional search (which is a bracketing method)\n",
    "there is a large variety of other algorithms available, these are for example\n",
    "\n",
    "- bracketing methods, e.g.\n",
    "\n",
    "  - Regula Falsi,\n",
    "  - Interpolate Truncate and Project method,\n",
    "\n",
    "- iterative methods, e.g.\n",
    "\n",
    "  - Newton's method, \n",
    "  - Secant method or\n",
    "\n",
    "- combinations of these, e.g.\n",
    "\n",
    "  - Brent's method\n",
    "\n",
    "In this session we will have a closer look at Newton's method specifically, but\n",
    "we will also learn, how we can make use of the python library scipy to\n",
    "implement a large variety of root finding algorithms easily.\n",
    "\n",
    "First, go back to the last part of the previous session and check how many\n",
    "iterations were required to find the pressure ratio leading to the desired\n",
    "temperature at outlet of the compressor."
   ]
  },
  {
   "cell_type": "code",
   "execution_count": 298,
   "metadata": {},
   "outputs": [
    {
     "data": {
      "text/plain": [
       "450.51341458937446"
      ]
     },
     "execution_count": 298,
     "metadata": {},
     "output_type": "execute_result"
    }
   ],
   "source": [
    "# use CoolProp\n",
    "from CoolProp.CoolProp import PropsSI as props\n",
    "\n",
    "# fluid information\n",
    "fluid = 'air'\n",
    "\n",
    "# inlet conditions\n",
    "m_1 = 10 # mass flow in kg/s\n",
    "p_1 = 1 * 10**5 # inlet pressure in Pa\n",
    "t_1 = 293.15 #inlet temperature in K\n",
    "\n",
    "# compressor data\n",
    "eta_c = 0.9 # compressor isentropic efficiency\n",
    "\n",
    "# outlet conditions\n",
    "t_2_target = 573.15 # target compressor outlet tempertature in K\n",
    "\n",
    "\n",
    "# calculate missing properties\n",
    "h_1 = props('H', 'P', p_1, 'T', t_1, fluid)\n",
    "s_1 = props('S', 'P', p_1, 'H', h_1, fluid)\n",
    "\n",
    "# calculate outlet temperature\n",
    "def calc_t_out_pr(pr, eta, p_in, h_in, medium):\n",
    "    '''\n",
    "    function for calculating outlet temperatures\n",
    "    as a function of pressure ratio\n",
    "    '''\n",
    "    s_in = props('S', 'P', p_in, 'H', h_in, medium)\n",
    "    h_out_s = props('H', 'P', p_in*pr, 'S', s_in, medium)\n",
    "    h_out = h_in + (h_out_s - h_in) / eta\n",
    "    t_out = props('T', 'P', p_in*pr, 'H', h_out, medium)\n",
    "    return t_out\n",
    "\n",
    "\n",
    "# guess for the pressure ratio\n",
    "pr_guess = 4\n",
    "calc_t_out_pr(pr_guess, eta_c, p_1, h_1, fluid)"
   ]
  },
  {
   "cell_type": "markdown",
   "metadata": {},
   "source": [
    "Now reimplement the same problem using Newton's method. The iteration rule for\n",
    "Newton's method is the following:\n",
    "\n",
    "$$\n",
    "x_{i + 1} = x_{i} - \\frac{f\\left(x_i\\right)}{\\frac{df}{dx_i}}\n",
    "$$\n",
    "\n",
    "The iteration is repeated until the residual value of the equation $f$ is\n",
    "below the desired threshold of accuracy $\\varepsilon$.\n",
    "\n",
    "$$|f\\left(x\\right)|\\leq \\varepsilon$$\n",
    "\n",
    "To apply this to our use case, we have to\n",
    "\n",
    "- provide a starting value $x_0$ for $x$,\n",
    "- calculate the residual value of the function $f$ and\n",
    "- determine the derivative of the function $\\frac{df}{dx}$ with respect to $x$.\n",
    "\n",
    "For that, the residual function $f$ needs be defined in a way, that the desired\n",
    "result is zero. In context of our problem, that means we have to calculate the\n",
    "difference between the target outlet temperature $T_\\text{2,target}$ and the\n",
    "temperature that is given as a result from the calculation of the\n",
    "`calc_t_out_pr` method.\n",
    "\n",
    "$$\n",
    "0 = f\\left(\\Pi_\\text{C}\\right) - T_\\text{2,target}\n",
    "$$\n",
    "\n",
    "It is not trivial to obtain the derivative of the function towards\n",
    "$\\Pi_\\text{C}$. However, it is possible to approximate the derivative\n",
    "numerically using a finite difference, e.g. the central difference:\n",
    "\n",
    "$$\n",
    "\\frac{\\Delta f}{\\Delta x} =\n",
    "\\frac{f\\left(x+\\Delta\\right) - f\\left(x-\\Delta\\right)}{2 \\cdot \\Delta}\n",
    "$$\n",
    "\n",
    "Also check how many iterations are necessary, and more interestingly, how many\n",
    "function evaluations are necessary to find the result."
   ]
  },
  {
   "cell_type": "code",
   "execution_count": 299,
   "metadata": {},
   "outputs": [
    {
     "data": {
      "text/plain": [
       "9.005367920166826"
      ]
     },
     "execution_count": 299,
     "metadata": {},
     "output_type": "execute_result"
    }
   ],
   "source": [
    "d = 1e-2  # Delta for change of variable pr\n",
    "\n",
    "while True:\n",
    "\n",
    "    residual = calc_t_out_pr(pr_guess, eta_c, p_1, h_1, fluid) - t_2_target\n",
    "    derivative = (\n",
    "        calc_t_out_pr(pr_guess + d, eta_c, p_1, h_1, fluid)\n",
    "         - calc_t_out_pr(pr_guess - d, eta_c, p_1, h_1, fluid)\n",
    "    ) / (2 * d)\n",
    "\n",
    "    increment = residual / derivative\n",
    "    pr_guess -= increment\n",
    "\n",
    "    # stop the simulation once the difference between the target temperature\n",
    "    # and the actual temperature is small enough\n",
    "    if abs(residual) < 1e-6:\n",
    "        break\n",
    "\n",
    "pr_guess"
   ]
  },
  {
   "cell_type": "markdown",
   "metadata": {},
   "source": [
    "With the availabilty of many software packages in the python universe, it is\n",
    "convenient to implement such algorithms with the help of external libraries.\n",
    "For example, scipy `cite`{scipy} offers a large variety of\n",
    "[root finding methods](https://docs.scipy.org/doc/scipy/reference/optimize.html#root-finding).\n",
    "\n",
    "Use the `brentq` method to implement the same procedure."
   ]
  },
  {
   "cell_type": "code",
   "execution_count": 300,
   "metadata": {},
   "outputs": [
    {
     "data": {
      "text/plain": [
       "9.005367920166796"
      ]
     },
     "execution_count": 300,
     "metadata": {},
     "output_type": "execute_result"
    }
   ],
   "source": [
    "def residual_function(pr_guess, eta_c, p_1, h_1, fluid, t_2_target):\n",
    "    return calc_t_out_pr(pr_guess, eta_c, p_1, h_1, fluid) - t_2_target\n",
    "\n",
    "\n",
    "from scipy.optimize import brentq\n",
    "\n",
    "\n",
    "brentq(\n",
    "    residual_function,  # residual function\n",
    "    a=1, # lower bracket\n",
    "    b=20, # upper bracket\n",
    "    # additional arguments after the first one\n",
    "    args=(eta_c, p_1, h_1, fluid, t_2_target),\n",
    ")"
   ]
  },
  {
   "cell_type": "markdown",
   "metadata": {},
   "source": [
    "We have seen that we can easily implement the root finding in python to\n",
    "calculate results of a problem, that cannot be easily analytically solved. \n",
    "We can also reuse the implementations we have done in certain situations:\n",
    "\n",
    "Consider, that the pressure ratio is already fixed to a specific value. We now\n",
    "want to know what the isentropic efficiency of the compressor must at least be\n",
    "to ensure that the outlet temperature does not exceed a specified upper limit.\n",
    "For this, there is two things we can do:\n",
    "\n",
    "- Either we make a reimplementation of the code, because now all parameters can\n",
    "  be calculated explicitly without the need of any iteration as the inlet and\n",
    "  the outlet state are full known.\n",
    "- Or, we can directly reuse the just implemented method and just modify the\n",
    "  variable the algorithm should solve for.\n",
    "  \n",
    "With the second approach, reimplement the `newton` or `brentq` root finding to\n",
    "identify at which isentropic efficiency the outlet temperature of 300 °C is not\n",
    "exceeded, when the pressure ratio is 8."
   ]
  },
  {
   "cell_type": "code",
   "execution_count": 301,
   "metadata": {},
   "outputs": [
    {
     "data": {
      "text/plain": [
       "0.8358848988178827"
      ]
     },
     "execution_count": 301,
     "metadata": {},
     "output_type": "execute_result"
    }
   ],
   "source": [
    "def residual_function_for_eta(eta_c, pr_guess, p_1, h_1, fluid, t_2_target):\n",
    "    return calc_t_out_pr(pr_guess, eta_c, p_1, h_1, fluid) - t_2_target\n",
    "\n",
    "pr = 8\n",
    "\n",
    "brentq(\n",
    "    residual_function_for_eta,  # residual function\n",
    "    a=0.6, # lower bracket\n",
    "    b=0.95, # upper bracket\n",
    "    # additional arguments after the first one\n",
    "    args=(pr, p_1, h_1, fluid, t_2_target),\n",
    ")"
   ]
  },
  {
   "cell_type": "markdown",
   "metadata": {},
   "source": [
    "## Newton's method in the multidimensional space\n",
    "\n",
    "### Introduction\n",
    "\n",
    "We can see, that all we need to do is to reorder the arguments in the residual\n",
    "function and we can reutilze the `calc_t_out_pr` method once again. The limit\n",
    "of this is, when the actual inputs or outputs of our calculation routine change\n",
    "in a way, that it is not possible anymore to pass my variable I am trying to\n",
    "solve for into the function. Then a complete reimplementation of the\n",
    "calculation procedure is required independently of the fact, if the solution\n",
    "can be obtained analytically or numerically.\n",
    "\n",
    "In the spirit of trying to minimze the effort we have to take in such \n",
    "situations, it is actually possible to generalize the root finding and making\n",
    "it adaptive to the specific use case. For this, we will implement \n",
    "Newton's method in the multidimensional space: The algorithm is supposed to \n",
    "find the solution of a set of `n` equations with `n` variables simultaneously.\n",
    "\n",
    "First, we will define the set of variables we want to solve for and then we\n",
    "will define the equations that are relevant for our problem. To not introduce\n",
    "a second new dimenson of complexity in our model, we will keep the compressor\n",
    "model. As set of variables we will use the state of the fluid at the inlet and\n",
    "at the outlet of the compressor, specifically\n",
    "\n",
    "- mass flow $\\dot m$,\n",
    "- pressure $p$ and\n",
    "- enthalpy $h$.\n",
    "\n",
    "The reason, why we chose these as set of variables is, that all relevant\n",
    "component parameters can be derived from these states. Additionally, all\n",
    "fluid properties, e.g. entropy or temperature, can also be derived from\n",
    "pressure and enthalpy.\n",
    "\n",
    "To port Newton's method to the multidimensional space, we have to modify the\n",
    "iteration procedure:\n",
    "\n",
    "- the variable $x$ becomes a vector of variables $\\vec x$\n",
    "- the residual value of the function $f\\left(x\\right)$ becomes a vector of\n",
    "  residual values $\\vec f\\left(\\vec x \\right)$\n",
    "- the derivative of the function $\\frac{df}{dx}$ becomes all partial \n",
    "  partial derivatives of the set of functions towards all variables in the\n",
    "  vector $\\vec x$, which is the Jacobian matrix $J\\left(\\vec x\\right)$\n",
    "- the devision of the residual value by its derivative becomes a matrix\n",
    "  multiplication of the Jacobian from the left to the residual value vector.\n",
    "\n",
    "$$\n",
    "\\vec x_{i+1} = \\vec x_{i} - J\\left(\\vec x\\right) \\cdot f\\left(\\vec x_{i}\\right)\n",
    "$$\n",
    "\n",
    "### Application to the compressor model\n",
    "\n",
    "We have already seen all relevant equations we might want to apply in context\n",
    "of the compressor model. Note, that we have to write them in the residual form,\n",
    "meaning, the left side of the equation should always be zero:\n",
    "\n",
    "- Equality of mass flow at inlet and outlet of compressor: $0 = \\dot m_1 - \\dot m_2$\n",
    "- Specified isentropic efficiency of the compressor: $0 = \\left(h_\\text{2,s} - h_1\\right) - \\eta_\\text{s} \\cdot \\left(h_2 - h_1\\right)$\n",
    "- Duty of the compressor: $0 = \\dot W - \\dot m \\cdot \\left(h_2 - h_1\\right)$\n",
    "- Pressure ratio of the compressor: $0 = \\text{pr} \\cdot p_1 - p_2$\n",
    "- Temperature of the fluid at inlet and/or outlet $0 = T - T\\left(p,h\\right)$\n",
    "- Volumetric flow of the air at inlet and/or outlet $0 = \\dot m \\dot v\\left(p,h\\right)$\n",
    "\n",
    "The equations for situations, in which one of the variables is directly specified,\n",
    "e.g. the mass flow or the pressure, are very simple, e.g. for mass flow:\n",
    "$0 = \\text{specification} - \\dot m$.\n",
    "\n",
    "We will create one function for each of the functionalities mentioned above:"
   ]
  },
  {
   "cell_type": "code",
   "execution_count": 302,
   "metadata": {},
   "outputs": [],
   "source": [
    "def temperature_residual(T, p, h, fluid):\n",
    "    return props(\"T\", \"P\", p, \"H\", h, fluid) - T\n",
    "\n",
    "\n",
    "def volumetric_flow_residual(v, m, p, h, fluid):\n",
    "    return m / v - props(\"D\", \"P\", p, \"H\", h, fluid)\n",
    "\n",
    "\n",
    "def duty_residual(W_dot, m, h_in, h_out):\n",
    "    return W_dot - m * (h_out - h_in)\n",
    "\n",
    "\n",
    "def pr_residual(pr, p_in, p_out):\n",
    "    return p_in * pr - p_out\n",
    "\n",
    "\n",
    "def eta_s_residual(eta_s, p_in, h_in, p_out, h_out, fluid):\n",
    "    s_in = props(\"S\", \"H\", h_in, \"P\", p_in, fluid)\n",
    "    h_out_s = props(\"H\", \"S\", s_in, \"P\", p_out, fluid)\n",
    "    return eta_s * (h_out - h_in) - (h_out_s - h_in)\n",
    "\n",
    "\n",
    "def variable_specified_residual(specification, var):\n",
    "    return specification - var\n",
    "\n",
    "\n",
    "def variable_equality_residual(var_1, var_2):\n",
    "    return var_1 - var_2"
   ]
  },
  {
   "cell_type": "markdown",
   "metadata": {},
   "source": []
  },
  {
   "cell_type": "code",
   "execution_count": 303,
   "metadata": {},
   "outputs": [],
   "source": [
    "\n",
    "import numpy as np\n",
    "\n",
    "\n",
    "dot_m = 5\n",
    "dot_W = 1.5e6\n",
    "p_in = 1e5\n",
    "pr = 10\n",
    "eta_s = 0.85\n",
    "\n",
    "x = np.array([\n",
    "    5, 1e5, 1e5, 5, 10e5, 2e5\n",
    "])"
   ]
  },
  {
   "cell_type": "markdown",
   "metadata": {},
   "source": [
    "residuals are function evaluations"
   ]
  },
  {
   "cell_type": "code",
   "execution_count": 304,
   "metadata": {},
   "outputs": [],
   "source": [
    "residual = np.array([\n",
    "    variable_specified_residual(dot_m, x[0]),\n",
    "    variable_specified_residual(p_in, x[1]),\n",
    "    variable_equality_residual(x[0], x[3]),\n",
    "    duty_residual(dot_W, x[0], x[2], x[5]),\n",
    "    pr_residual(pr, x[1], x[4]),\n",
    "    eta_s_residual(eta_s, x[1], x[2], x[4], x[5], fluid)\n",
    "])"
   ]
  },
  {
   "cell_type": "markdown",
   "metadata": {},
   "source": [
    "- simple derivatives we can just place in there"
   ]
  },
  {
   "cell_type": "code",
   "execution_count": 305,
   "metadata": {},
   "outputs": [],
   "source": [
    "jacobian = np.zeros((6, 6))\n",
    "\n",
    "jacobian[0, 0] = -1\n",
    "jacobian[1, 1] = -1\n",
    "jacobian[2, [0, 3]] = [1, -1]\n",
    "jacobian[3, [0, 2, 5]] = [x[2] - x[5], x[0], -x[0]]\n",
    "jacobian[4, [1, 4]] = [pr, -1]"
   ]
  },
  {
   "cell_type": "markdown",
   "metadata": {},
   "source": [
    "- Complex derivatives -> use finite difference methods"
   ]
  },
  {
   "cell_type": "code",
   "execution_count": 306,
   "metadata": {},
   "outputs": [],
   "source": [
    "def eta_s_jacobian(eta_s, p_in, h_in, p_out, h_out, fluid):\n",
    "    d = 1e-1\n",
    "    return [\n",
    "        (eta_s_residual(eta_s, p_in + d, h_in, p_out, h_out, fluid)\n",
    "        - eta_s_residual(eta_s, p_in - d, h_in, p_out, h_out, fluid))\n",
    "        / (2 * d),\n",
    "        (eta_s_residual(eta_s, p_in, h_in + d, p_out, h_out, fluid)\n",
    "        - eta_s_residual(eta_s, p_in, h_in - d, p_out, h_out, fluid))\n",
    "        / (2 * d),\n",
    "        (eta_s_residual(eta_s, p_in, h_in, p_out + d, h_out, fluid)\n",
    "        - eta_s_residual(eta_s, p_in, h_in, p_out - d, h_out, fluid))\n",
    "        / (2 * d),\n",
    "        eta_s\n",
    "    ]\n",
    "\n",
    "\n",
    "jacobian[5, [1, 2, 4, 5]] = eta_s_jacobian(eta_s, x[1], x[2], x[4], x[5], fluid)"
   ]
  },
  {
   "cell_type": "code",
   "execution_count": 307,
   "metadata": {},
   "outputs": [
    {
     "data": {
      "text/plain": [
       "array([5.00000000e+00, 1.00000000e+05, 7.72514767e+05, 5.00000000e+00,\n",
       "       1.00000000e+06, 1.07251477e+06])"
      ]
     },
     "execution_count": 307,
     "metadata": {},
     "output_type": "execute_result"
    }
   ],
   "source": [
    "increment = np.linalg.inv(jacobian).dot(residual)\n",
    "x -= increment\n",
    "x"
   ]
  },
  {
   "cell_type": "markdown",
   "metadata": {},
   "source": [
    "The individual parts can now be executed in a loop until convergence is\n",
    "achieved, which can be measured by the residual vector norm and/or the\n",
    "increment vector norm."
   ]
  },
  {
   "cell_type": "code",
   "execution_count": 308,
   "metadata": {},
   "outputs": [
    {
     "data": {
      "text/plain": [
       "array([5.00000000e+00, 1.00000000e+05, 3.98908999e+05, 5.00000000e+00,\n",
       "       1.00000000e+06, 6.98908999e+05])"
      ]
     },
     "execution_count": 308,
     "metadata": {},
     "output_type": "execute_result"
    }
   ],
   "source": [
    "while True:\n",
    "\n",
    "    residual = np.array([\n",
    "        variable_specified_residual(dot_m, x[0]),\n",
    "        variable_specified_residual(p_in, x[1]),\n",
    "        variable_equality_residual(x[0], x[3]),\n",
    "        duty_residual(dot_W, x[0], x[2], x[5]),\n",
    "        pr_residual(pr, x[1], x[4]),\n",
    "        eta_s_residual(eta_s, x[1], x[2], x[4], x[5], fluid)\n",
    "    ])\n",
    "\n",
    "    jacobian = np.zeros((6, 6))\n",
    "\n",
    "    jacobian[0, 0] = -1\n",
    "    jacobian[1, 1] = -1\n",
    "    jacobian[2, [0, 3]] = [1, -1]\n",
    "    jacobian[3, [0, 2, 5]] = [x[2] - x[5], x[0], -x[0]]\n",
    "    jacobian[4, [1, 4]] = [pr, -1]\n",
    "\n",
    "    jacobian[5, [1, 2, 4, 5]] = eta_s_jacobian(eta_s, x[1], x[2], x[4], x[5], fluid)\n",
    "\n",
    "    increment = np.linalg.inv(jacobian).dot(residual)\n",
    "    x -= increment\n",
    "\n",
    "    if np.linalg.norm(increment) < 1e-6:\n",
    "        break\n",
    "\n",
    "x"
   ]
  },
  {
   "cell_type": "markdown",
   "metadata": {},
   "source": [
    "We can calculate resulting properties from the state vector, e.g. the inlet or\n",
    "the outlet temperature values."
   ]
  },
  {
   "cell_type": "code",
   "execution_count": 309,
   "metadata": {},
   "outputs": [
    {
     "data": {
      "text/plain": [
       "(272.77035658561897, 567.2531943968664)"
      ]
     },
     "execution_count": 309,
     "metadata": {},
     "output_type": "execute_result"
    }
   ],
   "source": [
    "props(\"T\", \"P\", x[1], \"H\", x[2], fluid), props(\"T\", \"P\", x[4], \"H\", x[5], fluid)"
   ]
  },
  {
   "cell_type": "markdown",
   "metadata": {},
   "source": [
    "To change input values we now only have to exchange the respective equations\n",
    "when calculating the residual vector and the jacobian matrix. For example, we\n",
    "can specify the temperature at inlet and at outlet as in the previous example.\n",
    "For this, we also have to add the partial derivatives of the temperature \n",
    "equation. They can be calculated numerically in a similar style as we have done\n",
    "for the isentropic efficiency equation."
   ]
  },
  {
   "cell_type": "code",
   "execution_count": 310,
   "metadata": {},
   "outputs": [],
   "source": [
    "def temperature_jacobian(p, h, fluid):\n",
    "    return [\n",
    "        (props(\"T\", \"P\", p + d, \"H\", h, fluid) - props(\"T\", \"P\", p - d, \"H\", h, fluid)) / (2 * d),\n",
    "        (props(\"T\", \"P\", p, \"H\", h + d, fluid) - props(\"T\", \"P\", p, \"H\", h - d, fluid)) / (2 * d)\n",
    "    ]\n"
   ]
  },
  {
   "cell_type": "code",
   "execution_count": 311,
   "metadata": {},
   "outputs": [
    {
     "data": {
      "text/plain": [
       "array([5.00000000e+00, 1.00000000e+05, 4.19408070e+05, 5.00000000e+00,\n",
       "       8.21404212e+05, 7.05121987e+05])"
      ]
     },
     "execution_count": 311,
     "metadata": {},
     "output_type": "execute_result"
    }
   ],
   "source": [
    "\n",
    "while True:\n",
    "\n",
    "    residual = np.array([\n",
    "        variable_specified_residual(dot_m, x[0]),\n",
    "        variable_specified_residual(p_in, x[1]),\n",
    "        variable_equality_residual(x[0], x[3]),\n",
    "        # exchange of two equations\n",
    "        temperature_residual(t_1, x[1], x[2], fluid),\n",
    "        temperature_residual(t_2_target, x[4], x[5], fluid),\n",
    "\n",
    "        eta_s_residual(eta_s, x[1], x[2], x[4], x[5], fluid),\n",
    "    ])\n",
    "\n",
    "    jacobian = np.zeros((6, 6))\n",
    "\n",
    "    jacobian[0, 0] = -1\n",
    "    jacobian[1, 1] = -1\n",
    "    jacobian[2, [0, 3]] = [1, -1]\n",
    "\n",
    "    # exchange of two equations\n",
    "    jacobian[3, [1, 2]] = temperature_jacobian(x[1], x[2], fluid)\n",
    "    jacobian[4, [4, 5]] = temperature_jacobian(x[4], x[5], fluid)\n",
    "\n",
    "    jacobian[5, [1, 2, 4, 5]] = eta_s_jacobian(eta_s, x[1], x[2], x[4], x[5], fluid)\n",
    "\n",
    "    increment = np.linalg.inv(jacobian).dot(residual)\n",
    "    x -= increment\n",
    "\n",
    "    if np.linalg.norm(increment) < 1e-6:\n",
    "        break\n",
    "\n",
    "x"
   ]
  },
  {
   "cell_type": "markdown",
   "metadata": {},
   "source": [
    "Now check the results, e.g. pressure ratio or duty."
   ]
  },
  {
   "cell_type": "code",
   "execution_count": 312,
   "metadata": {},
   "outputs": [
    {
     "data": {
      "text/plain": [
       "np.float64(8.214042118486915)"
      ]
     },
     "execution_count": 312,
     "metadata": {},
     "output_type": "execute_result"
    }
   ],
   "source": [
    "x[4] / x[1]"
   ]
  },
  {
   "cell_type": "code",
   "execution_count": 313,
   "metadata": {},
   "outputs": [
    {
     "data": {
      "text/plain": [
       "np.float64(1428569.5803835187)"
      ]
     },
     "execution_count": 313,
     "metadata": {},
     "output_type": "execute_result"
    }
   ],
   "source": [
    "x[0] * (x[5] - x[2])"
   ]
  },
  {
   "cell_type": "markdown",
   "metadata": {},
   "source": [
    "In another change of specification, we could exchange mass flow at inlet with\n",
    "volumetric flow. Here we have to define the partial derivatives as well. For\n",
    "mass flow it is very simple, for pressure and enthalpy they are the negative\n",
    "values of the partial derivatives of density to those two, since the mass flow\n",
    "term is a constant."
   ]
  },
  {
   "cell_type": "code",
   "execution_count": 314,
   "metadata": {},
   "outputs": [],
   "source": [
    "def volumetric_flow_jacobian(v, m, p, h, fluid):\n",
    "    return [\n",
    "        1 / v,\n",
    "        - (props(\"D\", \"P\", p + d, \"H\", h, fluid) - props(\"D\", \"P\", p - d, \"H\", h, fluid)) / (2 * d),\n",
    "        - (props(\"D\", \"P\", p, \"H\", h + d, fluid) - props(\"D\", \"P\", p, \"H\", h - d, fluid)) / (2 * d)\n",
    "    ]"
   ]
  },
  {
   "cell_type": "code",
   "execution_count": 315,
   "metadata": {},
   "outputs": [
    {
     "data": {
      "text/plain": [
       "array([5.00000000e+00, 1.00000000e+05, 4.19408070e+05, 5.00000000e+00,\n",
       "       8.21404212e+05, 7.05121987e+05])"
      ]
     },
     "execution_count": 315,
     "metadata": {},
     "output_type": "execute_result"
    }
   ],
   "source": [
    "volumetric_flow_residual(4.205, x[0], x[1], x[2], fluid)\n",
    "x"
   ]
  },
  {
   "cell_type": "code",
   "execution_count": 316,
   "metadata": {},
   "outputs": [
    {
     "data": {
      "text/plain": [
       "array([1.18881747e+01, 1.00000000e+05, 4.19408070e+05, 1.18881747e+01,\n",
       "       8.21404212e+05, 7.05121987e+05])"
      ]
     },
     "execution_count": 316,
     "metadata": {},
     "output_type": "execute_result"
    }
   ],
   "source": [
    "while True:\n",
    "\n",
    "    residual = np.array([\n",
    "        volumetric_flow_residual(10, x[0], x[1], x[2], fluid),\n",
    "        variable_specified_residual(p_in, x[1]),\n",
    "        variable_equality_residual(x[0], x[3]),\n",
    "        # exchange of two equations\n",
    "        temperature_residual(t_1, x[1], x[2], fluid),\n",
    "        temperature_residual(t_2_target, x[4], x[5], fluid),\n",
    "\n",
    "        eta_s_residual(eta_s, x[1], x[2], x[4], x[5], fluid),\n",
    "    ])\n",
    "\n",
    "    jacobian = np.zeros((6, 6))\n",
    "    jacobian[0, [0, 1, 2]] = volumetric_flow_jacobian(10, x[0], x[1], x[2], fluid)\n",
    "    # print(jacobian[0])\n",
    "    jacobian[1, 1] = -1\n",
    "    jacobian[2, [0, 3]] = [1, -1]\n",
    "\n",
    "    # exchange of two equations\n",
    "    jacobian[3, [1, 2]] = temperature_jacobian(x[1], x[2], fluid)\n",
    "    jacobian[4, [4, 5]] = temperature_jacobian(x[4], x[5], fluid)\n",
    "\n",
    "    jacobian[5, [1, 2, 4, 5]] = eta_s_jacobian(eta_s, x[1], x[2], x[4], x[5], fluid)\n",
    "\n",
    "    increment = np.linalg.inv(jacobian).dot(residual)\n",
    "    x -= increment\n",
    "    norm = np.linalg.norm(residual)\n",
    "\n",
    "    if norm < 1e-3:\n",
    "        break\n",
    "\n",
    "x"
   ]
  }
 ],
 "metadata": {
  "kernelspec": {
   "display_name": "tespy-teaching-env",
   "language": "python",
   "name": "python3"
  },
  "language_info": {
   "codemirror_mode": {
    "name": "ipython",
    "version": 3
   },
   "file_extension": ".py",
   "mimetype": "text/x-python",
   "name": "python",
   "nbconvert_exporter": "python",
   "pygments_lexer": "ipython3",
   "version": "3.11.11"
  }
 },
 "nbformat": 4,
 "nbformat_minor": 2
}
